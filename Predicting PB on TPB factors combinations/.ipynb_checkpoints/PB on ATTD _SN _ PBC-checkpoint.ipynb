{
 "cells": [
  {
   "cell_type": "markdown",
   "id": "HOg8ngwRAJvv",
   "metadata": {
    "id": "HOg8ngwRAJvv"
   },
   "source": [
    "# Predicting Purchase Behavior(PB) based on Attitude(ATTD), Social Norm(SN) and Purchase Behavioral Control(PBC)"
   ]
  },
  {
   "cell_type": "markdown",
   "id": "BQJr6Wd0_7dp",
   "metadata": {
    "id": "BQJr6Wd0_7dp"
   },
   "source": [
    "# Installing Dependecies"
   ]
  },
  {
   "cell_type": "code",
   "execution_count": 14,
   "id": "8b90037e",
   "metadata": {},
   "outputs": [
    {
     "name": "stdout",
     "output_type": "stream",
     "text": [
      "Requirement already satisfied: colorama==0.4.6 in c:\\users\\raiyan\\anaconda3\\lib\\site-packages (from -r requirements.txt (line 1)) (0.4.6)\n",
      "Requirement already satisfied: contourpy==1.1.1 in c:\\users\\raiyan\\anaconda3\\lib\\site-packages (from -r requirements.txt (line 2)) (1.1.1)\n",
      "Requirement already satisfied: cycler==0.11.0 in c:\\users\\raiyan\\anaconda3\\lib\\site-packages (from -r requirements.txt (line 3)) (0.11.0)\n",
      "Requirement already satisfied: fonttools==4.42.1 in c:\\users\\raiyan\\anaconda3\\lib\\site-packages (from -r requirements.txt (line 4)) (4.42.1)\n",
      "Requirement already satisfied: imageio==2.31.3 in c:\\users\\raiyan\\anaconda3\\lib\\site-packages (from -r requirements.txt (line 5)) (2.31.3)\n",
      "Requirement already satisfied: joblib==1.3.2 in c:\\users\\raiyan\\anaconda3\\lib\\site-packages (from -r requirements.txt (line 6)) (1.3.2)\n",
      "Requirement already satisfied: kiwisolver==1.4.5 in c:\\users\\raiyan\\anaconda3\\lib\\site-packages (from -r requirements.txt (line 7)) (1.4.5)\n",
      "Requirement already satisfied: lazy_loader==0.3 in c:\\users\\raiyan\\anaconda3\\lib\\site-packages (from -r requirements.txt (line 8)) (0.3)\n",
      "Requirement already satisfied: lime==0.2.0.1 in c:\\users\\raiyan\\anaconda3\\lib\\site-packages (from -r requirements.txt (line 9)) (0.2.0.1)\n",
      "Requirement already satisfied: matplotlib==3.8.0 in c:\\users\\raiyan\\anaconda3\\lib\\site-packages (from -r requirements.txt (line 10)) (3.8.0)\n",
      "Requirement already satisfied: networkx==3.1 in c:\\users\\raiyan\\anaconda3\\lib\\site-packages (from -r requirements.txt (line 11)) (3.1)\n",
      "Requirement already satisfied: numpy==1.26.0 in c:\\users\\raiyan\\anaconda3\\lib\\site-packages (from -r requirements.txt (line 12)) (1.26.0)\n",
      "Requirement already satisfied: packaging==23.1 in c:\\users\\raiyan\\anaconda3\\lib\\site-packages (from -r requirements.txt (line 13)) (23.1)\n",
      "Requirement already satisfied: Pillow==10.0.1 in c:\\users\\raiyan\\anaconda3\\lib\\site-packages (from -r requirements.txt (line 14)) (10.0.1)\n",
      "Requirement already satisfied: pyparsing==3.1.1 in c:\\users\\raiyan\\anaconda3\\lib\\site-packages (from -r requirements.txt (line 15)) (3.1.1)\n",
      "Requirement already satisfied: python-dateutil==2.8.2 in c:\\users\\raiyan\\anaconda3\\lib\\site-packages (from -r requirements.txt (line 16)) (2.8.2)\n",
      "Requirement already satisfied: PyWavelets==1.4.1 in c:\\users\\raiyan\\anaconda3\\lib\\site-packages (from -r requirements.txt (line 17)) (1.4.1)\n",
      "Requirement already satisfied: scikit-image==0.21.0 in c:\\users\\raiyan\\anaconda3\\lib\\site-packages (from -r requirements.txt (line 18)) (0.21.0)\n",
      "Requirement already satisfied: scikit-learn==1.3.1 in c:\\users\\raiyan\\anaconda3\\lib\\site-packages (from -r requirements.txt (line 19)) (1.3.1)\n",
      "Requirement already satisfied: scikit-plot==0.3.7 in c:\\users\\raiyan\\anaconda3\\lib\\site-packages (from -r requirements.txt (line 20)) (0.3.7)\n",
      "Requirement already satisfied: scipy==1.11.2 in c:\\users\\raiyan\\anaconda3\\lib\\site-packages (from -r requirements.txt (line 21)) (1.11.2)\n",
      "Requirement already satisfied: six==1.16.0 in c:\\users\\raiyan\\anaconda3\\lib\\site-packages (from -r requirements.txt (line 22)) (1.16.0)\n",
      "Requirement already satisfied: threadpoolctl==3.2.0 in c:\\users\\raiyan\\anaconda3\\lib\\site-packages (from -r requirements.txt (line 23)) (3.2.0)\n",
      "Requirement already satisfied: tifffile==2023.9.18 in c:\\users\\raiyan\\anaconda3\\lib\\site-packages (from -r requirements.txt (line 24)) (2023.9.18)\n",
      "Requirement already satisfied: tqdm==4.66.1 in c:\\users\\raiyan\\anaconda3\\lib\\site-packages (from -r requirements.txt (line 25)) (4.66.1)\n",
      "Requirement already satisfied: importlib-resources>=3.2.0 in c:\\users\\raiyan\\anaconda3\\lib\\site-packages (from matplotlib==3.8.0->-r requirements.txt (line 10)) (5.2.0)\n",
      "Requirement already satisfied: zipp>=3.1.0 in c:\\users\\raiyan\\anaconda3\\lib\\site-packages (from importlib-resources>=3.2.0->matplotlib==3.8.0->-r requirements.txt (line 10)) (3.11.0)\n",
      "Note: you may need to restart the kernel to use updated packages.\n"
     ]
    }
   ],
   "source": [
    "pip install -r requirements.txt"
   ]
  },
  {
   "cell_type": "markdown",
   "id": "ZVt7TeabAAwv",
   "metadata": {
    "id": "ZVt7TeabAAwv"
   },
   "source": [
    "# Importing libraries"
   ]
  },
  {
   "cell_type": "code",
   "execution_count": 15,
   "id": "7f2bbc76",
   "metadata": {
    "id": "7f2bbc76"
   },
   "outputs": [],
   "source": [
    "import math\n",
    "import pandas as pd #dataframe\n",
    "import numpy as np #mathematical computations\n",
    "import matplotlib.pyplot as plt #visualization\n",
    "import matplotlib\n",
    "import joblib\n",
    "import seaborn as sns #visualization\n",
    "import json\n",
    "import pickle #saving the model\n",
    "import scikitplot as skplt\n",
    "from sklearn.preprocessing import LabelEncoder, OneHotEncoder, OrdinalEncoder, MinMaxScaler\n",
    "from sklearn.model_selection import train_test_split #Splitting the dataset into training and testing\n",
    "from sklearn.model_selection import ShuffleSplit #Random shuffling\n",
    "from sklearn.model_selection import cross_val_score\n",
    "from sklearn.model_selection import cross_validate\n",
    "from sklearn.model_selection import GridSearchCV\n",
    "from statistics import stdev\n",
    "from warnings import simplefilter\n",
    "\n",
    "import warnings\n",
    "warnings.filterwarnings('ignore')\n"
   ]
  },
  {
   "cell_type": "markdown",
   "id": "iNorOcwkAEkF",
   "metadata": {
    "id": "iNorOcwkAEkF"
   },
   "source": [
    "# Importing Dataset"
   ]
  },
  {
   "cell_type": "code",
   "execution_count": 16,
   "id": "24843018",
   "metadata": {
    "id": "24843018"
   },
   "outputs": [],
   "source": [
    "#reading the .xlsx dataset in to the dataframe\n",
    "df1 = pd.read_excel(\"Data v1.0.xlsx\")"
   ]
  },
  {
   "cell_type": "code",
   "execution_count": 17,
   "id": "b0847b4f",
   "metadata": {
    "colab": {
     "base_uri": "https://localhost:8080/",
     "height": 664
    },
    "executionInfo": {
     "elapsed": 16,
     "status": "ok",
     "timestamp": 1685941065812,
     "user": {
      "displayName": "rezwan hossain",
      "userId": "17051338825193089010"
     },
     "user_tz": -360
    },
    "id": "b0847b4f",
    "outputId": "9d45bfbd-5b80-42ab-f482-b042ccf26255",
    "scrolled": false
   },
   "outputs": [
    {
     "data": {
      "text/html": [
       "<div>\n",
       "<style scoped>\n",
       "    .dataframe tbody tr th:only-of-type {\n",
       "        vertical-align: middle;\n",
       "    }\n",
       "\n",
       "    .dataframe tbody tr th {\n",
       "        vertical-align: top;\n",
       "    }\n",
       "\n",
       "    .dataframe thead th {\n",
       "        text-align: right;\n",
       "    }\n",
       "</style>\n",
       "<table border=\"1\" class=\"dataframe\">\n",
       "  <thead>\n",
       "    <tr style=\"text-align: right;\">\n",
       "      <th></th>\n",
       "      <th>ID</th>\n",
       "      <th>Gender</th>\n",
       "      <th>Age</th>\n",
       "      <th>Ethnic</th>\n",
       "      <th>Occupation</th>\n",
       "      <th>Annual Income</th>\n",
       "      <th>Social Media usage</th>\n",
       "      <th>Experience of purchasing due to social media influence</th>\n",
       "      <th>Reviews and rating impact on purchasing decision</th>\n",
       "      <th>Average time spent on the Internet (weekly)</th>\n",
       "      <th>...</th>\n",
       "      <th>Attitude 3 (ATTD3)</th>\n",
       "      <th>Attitude 4 (ATTD4)</th>\n",
       "      <th>Social Norms 1 (SN1)</th>\n",
       "      <th>Social Norms 2 (SN2)</th>\n",
       "      <th>Social Norms 3 (SN3)</th>\n",
       "      <th>Social Norms 4 (SN4)</th>\n",
       "      <th>Perceived Behavioural Control 1 (PBC1)</th>\n",
       "      <th>Perceived Behavioural Control 2 (PBC2)</th>\n",
       "      <th>Perceived Behavioural Control 3 (PBC3)</th>\n",
       "      <th>Perceived Behavioural Control 4 (PBC4)</th>\n",
       "    </tr>\n",
       "  </thead>\n",
       "  <tbody>\n",
       "    <tr>\n",
       "      <th>0</th>\n",
       "      <td>1</td>\n",
       "      <td>Female</td>\n",
       "      <td>29 - 34 Years Old</td>\n",
       "      <td>Chinese</td>\n",
       "      <td>Homemaker</td>\n",
       "      <td>RM50,001-RM70,000</td>\n",
       "      <td>Yes</td>\n",
       "      <td>Yes</td>\n",
       "      <td>Yes</td>\n",
       "      <td>More than 40 hours</td>\n",
       "      <td>...</td>\n",
       "      <td>Neutral</td>\n",
       "      <td>Neutral</td>\n",
       "      <td>Neutral</td>\n",
       "      <td>Neutral</td>\n",
       "      <td>Neutral</td>\n",
       "      <td>Neutral</td>\n",
       "      <td>Neutral</td>\n",
       "      <td>Neutral</td>\n",
       "      <td>Neutral</td>\n",
       "      <td>Neutral</td>\n",
       "    </tr>\n",
       "    <tr>\n",
       "      <th>1</th>\n",
       "      <td>2</td>\n",
       "      <td>Male</td>\n",
       "      <td>23 - 28 Years Old</td>\n",
       "      <td>Chinese</td>\n",
       "      <td>Student</td>\n",
       "      <td>RM50,001-RM70,000</td>\n",
       "      <td>Yes</td>\n",
       "      <td>Yes</td>\n",
       "      <td>Yes</td>\n",
       "      <td>More than 40 hours</td>\n",
       "      <td>...</td>\n",
       "      <td>Agree</td>\n",
       "      <td>Neutral</td>\n",
       "      <td>Strongly disagree</td>\n",
       "      <td>Disagree</td>\n",
       "      <td>Agree</td>\n",
       "      <td>Neutral</td>\n",
       "      <td>Neutral</td>\n",
       "      <td>Agree</td>\n",
       "      <td>Disagree</td>\n",
       "      <td>Disagree</td>\n",
       "    </tr>\n",
       "    <tr>\n",
       "      <th>2</th>\n",
       "      <td>3</td>\n",
       "      <td>Female</td>\n",
       "      <td>29 - 34 Years Old</td>\n",
       "      <td>Chinese</td>\n",
       "      <td>Homemaker</td>\n",
       "      <td>Less than RM30,000</td>\n",
       "      <td>Yes</td>\n",
       "      <td>Yes</td>\n",
       "      <td>Yes</td>\n",
       "      <td>5 hours – 10 hours</td>\n",
       "      <td>...</td>\n",
       "      <td>Strongly disagree</td>\n",
       "      <td>Disagree</td>\n",
       "      <td>Strongly disagree</td>\n",
       "      <td>Strongly disagree</td>\n",
       "      <td>Strongly disagree</td>\n",
       "      <td>Strongly disagree</td>\n",
       "      <td>Strongly disagree</td>\n",
       "      <td>Strongly disagree</td>\n",
       "      <td>Strongly disagree</td>\n",
       "      <td>Strongly disagree</td>\n",
       "    </tr>\n",
       "    <tr>\n",
       "      <th>3</th>\n",
       "      <td>4</td>\n",
       "      <td>Male</td>\n",
       "      <td>35 - 40 Years Old</td>\n",
       "      <td>Malay</td>\n",
       "      <td>Businessman</td>\n",
       "      <td>More than RM90,001</td>\n",
       "      <td>Yes</td>\n",
       "      <td>Yes</td>\n",
       "      <td>No</td>\n",
       "      <td>1 hour – 4 hours</td>\n",
       "      <td>...</td>\n",
       "      <td>Agree</td>\n",
       "      <td>Neutral</td>\n",
       "      <td>Neutral</td>\n",
       "      <td>Neutral</td>\n",
       "      <td>Agree</td>\n",
       "      <td>Agree</td>\n",
       "      <td>Neutral</td>\n",
       "      <td>Agree</td>\n",
       "      <td>Neutral</td>\n",
       "      <td>Agree</td>\n",
       "    </tr>\n",
       "    <tr>\n",
       "      <th>4</th>\n",
       "      <td>5</td>\n",
       "      <td>Female</td>\n",
       "      <td>23 - 28 Years Old</td>\n",
       "      <td>Chinese</td>\n",
       "      <td>Employee</td>\n",
       "      <td>RM70,001-RM90,000</td>\n",
       "      <td>Yes</td>\n",
       "      <td>Yes</td>\n",
       "      <td>Yes</td>\n",
       "      <td>10 hours – 20 hours</td>\n",
       "      <td>...</td>\n",
       "      <td>Agree</td>\n",
       "      <td>Agree</td>\n",
       "      <td>Neutral</td>\n",
       "      <td>Disagree</td>\n",
       "      <td>Neutral</td>\n",
       "      <td>Neutral</td>\n",
       "      <td>Neutral</td>\n",
       "      <td>Agree</td>\n",
       "      <td>Agree</td>\n",
       "      <td>Agree</td>\n",
       "    </tr>\n",
       "  </tbody>\n",
       "</table>\n",
       "<p>5 rows × 27 columns</p>\n",
       "</div>"
      ],
      "text/plain": [
       "   ID  Gender                Age   Ethnic   Occupation       Annual Income  \\\n",
       "0   1  Female  29 - 34 Years Old  Chinese    Homemaker   RM50,001-RM70,000   \n",
       "1   2    Male  23 - 28 Years Old  Chinese      Student   RM50,001-RM70,000   \n",
       "2   3  Female  29 - 34 Years Old  Chinese    Homemaker  Less than RM30,000   \n",
       "3   4    Male  35 - 40 Years Old    Malay  Businessman  More than RM90,001   \n",
       "4   5  Female  23 - 28 Years Old  Chinese     Employee   RM70,001-RM90,000   \n",
       "\n",
       "  Social Media usage Experience of purchasing due to social media influence  \\\n",
       "0                Yes                                                Yes       \n",
       "1                Yes                                                Yes       \n",
       "2                Yes                                                Yes       \n",
       "3                Yes                                                Yes       \n",
       "4                Yes                                                Yes       \n",
       "\n",
       "  Reviews and rating impact on purchasing decision  \\\n",
       "0                                              Yes   \n",
       "1                                              Yes   \n",
       "2                                              Yes   \n",
       "3                                               No   \n",
       "4                                              Yes   \n",
       "\n",
       "  Average time spent on the Internet (weekly)  ... Attitude 3 (ATTD3)  \\\n",
       "0                          More than 40 hours  ...            Neutral   \n",
       "1                          More than 40 hours  ...              Agree   \n",
       "2                          5 hours – 10 hours  ...  Strongly disagree   \n",
       "3                            1 hour – 4 hours  ...              Agree   \n",
       "4                         10 hours – 20 hours  ...              Agree   \n",
       "\n",
       "  Attitude 4 (ATTD4) Social Norms 1 (SN1) Social Norms 2 (SN2)  \\\n",
       "0            Neutral              Neutral              Neutral   \n",
       "1            Neutral    Strongly disagree             Disagree   \n",
       "2           Disagree    Strongly disagree    Strongly disagree   \n",
       "3            Neutral              Neutral              Neutral   \n",
       "4              Agree              Neutral             Disagree   \n",
       "\n",
       "  Social Norms 3 (SN3) Social Norms 4 (SN4)  \\\n",
       "0              Neutral              Neutral   \n",
       "1                Agree              Neutral   \n",
       "2    Strongly disagree    Strongly disagree   \n",
       "3                Agree                Agree   \n",
       "4              Neutral              Neutral   \n",
       "\n",
       "  Perceived Behavioural Control 1 (PBC1)  \\\n",
       "0                                Neutral   \n",
       "1                                Neutral   \n",
       "2                      Strongly disagree   \n",
       "3                                Neutral   \n",
       "4                                Neutral   \n",
       "\n",
       "  Perceived Behavioural Control 2 (PBC2)  \\\n",
       "0                                Neutral   \n",
       "1                                  Agree   \n",
       "2                      Strongly disagree   \n",
       "3                                  Agree   \n",
       "4                                  Agree   \n",
       "\n",
       "  Perceived Behavioural Control 3 (PBC3)  \\\n",
       "0                                Neutral   \n",
       "1                               Disagree   \n",
       "2                      Strongly disagree   \n",
       "3                                Neutral   \n",
       "4                                  Agree   \n",
       "\n",
       "  Perceived Behavioural Control 4 (PBC4)  \n",
       "0                                Neutral  \n",
       "1                               Disagree  \n",
       "2                      Strongly disagree  \n",
       "3                                  Agree  \n",
       "4                                  Agree  \n",
       "\n",
       "[5 rows x 27 columns]"
      ]
     },
     "execution_count": 17,
     "metadata": {},
     "output_type": "execute_result"
    }
   ],
   "source": [
    "df1.head()"
   ]
  },
  {
   "cell_type": "code",
   "execution_count": 18,
   "id": "09cb273e",
   "metadata": {
    "colab": {
     "base_uri": "https://localhost:8080/"
    },
    "executionInfo": {
     "elapsed": 474,
     "status": "ok",
     "timestamp": 1685941066272,
     "user": {
      "displayName": "rezwan hossain",
      "userId": "17051338825193089010"
     },
     "user_tz": -360
    },
    "id": "09cb273e",
    "outputId": "e7c5817f-ffa9-4b65-ca68-a1d77996996b"
   },
   "outputs": [
    {
     "data": {
      "text/plain": [
       "(219, 27)"
      ]
     },
     "execution_count": 18,
     "metadata": {},
     "output_type": "execute_result"
    }
   ],
   "source": [
    "df1.shape"
   ]
  },
  {
   "cell_type": "code",
   "execution_count": 19,
   "id": "9e453516",
   "metadata": {
    "colab": {
     "base_uri": "https://localhost:8080/"
    },
    "executionInfo": {
     "elapsed": 60,
     "status": "ok",
     "timestamp": 1685941066274,
     "user": {
      "displayName": "rezwan hossain",
      "userId": "17051338825193089010"
     },
     "user_tz": -360
    },
    "id": "9e453516",
    "outputId": "0eda5946-8716-4749-af00-881a5b37f333"
   },
   "outputs": [
    {
     "data": {
      "text/plain": [
       "Index(['ID', 'Gender', 'Age', 'Ethnic', 'Occupation', 'Annual Income',\n",
       "       'Social Media usage',\n",
       "       'Experience of purchasing due to social media influence',\n",
       "       'Reviews and rating impact on purchasing decision',\n",
       "       'Average time spent on the Internet (weekly)',\n",
       "       'Attention to advertisement on social media',\n",
       "       'Purchase Behaviour 1 (PB1)', 'Purchase Behaviour 2 (PB2)',\n",
       "       'Purchase Behaviour 3 (PB3)', 'Purchase Behaviour 4 (PB4)',\n",
       "       'Attitude 1 (ATTD1)', 'Attitude 2 (ATTD2)', 'Attitude 3 (ATTD3)',\n",
       "       'Attitude 4 (ATTD4)', 'Social Norms 1 (SN1)', 'Social Norms 2 (SN2)',\n",
       "       'Social Norms 3 (SN3)', 'Social Norms 4 (SN4)',\n",
       "       'Perceived Behavioural Control 1 (PBC1)',\n",
       "       'Perceived Behavioural Control 2 (PBC2)',\n",
       "       'Perceived Behavioural Control 3 (PBC3)',\n",
       "       'Perceived Behavioural Control 4 (PBC4)'],\n",
       "      dtype='object')"
      ]
     },
     "execution_count": 19,
     "metadata": {},
     "output_type": "execute_result"
    }
   ],
   "source": [
    "df1.columns"
   ]
  },
  {
   "cell_type": "code",
   "execution_count": 21,
   "id": "cf797305",
   "metadata": {
    "colab": {
     "base_uri": "https://localhost:8080/"
    },
    "executionInfo": {
     "elapsed": 57,
     "status": "ok",
     "timestamp": 1685941066274,
     "user": {
      "displayName": "rezwan hossain",
      "userId": "17051338825193089010"
     },
     "user_tz": -360
    },
    "id": "cf797305",
    "outputId": "821e680d-9fed-41c2-b4d3-cddf981455e9"
   },
   "outputs": [
    {
     "data": {
      "text/plain": [
       "array(['Female', 'Male'], dtype=object)"
      ]
     },
     "execution_count": 21,
     "metadata": {},
     "output_type": "execute_result"
    }
   ],
   "source": [
    "df1[\"Gender\"].unique()"
   ]
  },
  {
   "cell_type": "markdown",
   "id": "2bde19d2",
   "metadata": {
    "id": "2bde19d2"
   },
   "source": [
    "# Exploratory Data Analysis (EDA)"
   ]
  },
  {
   "cell_type": "code",
   "execution_count": 22,
   "id": "48fc7d81",
   "metadata": {
    "colab": {
     "base_uri": "https://localhost:8080/",
     "height": 664
    },
    "executionInfo": {
     "elapsed": 53,
     "status": "ok",
     "timestamp": 1685941066274,
     "user": {
      "displayName": "rezwan hossain",
      "userId": "17051338825193089010"
     },
     "user_tz": -360
    },
    "id": "48fc7d81",
    "outputId": "1dc95bee-d5c5-40fd-91ce-bb1507224aba"
   },
   "outputs": [
    {
     "data": {
      "text/html": [
       "<div>\n",
       "<style scoped>\n",
       "    .dataframe tbody tr th:only-of-type {\n",
       "        vertical-align: middle;\n",
       "    }\n",
       "\n",
       "    .dataframe tbody tr th {\n",
       "        vertical-align: top;\n",
       "    }\n",
       "\n",
       "    .dataframe thead th {\n",
       "        text-align: right;\n",
       "    }\n",
       "</style>\n",
       "<table border=\"1\" class=\"dataframe\">\n",
       "  <thead>\n",
       "    <tr style=\"text-align: right;\">\n",
       "      <th></th>\n",
       "      <th>Gender</th>\n",
       "      <th>Age</th>\n",
       "      <th>Ethnic</th>\n",
       "      <th>Occupation</th>\n",
       "      <th>Annual Income</th>\n",
       "      <th>Social Media usage</th>\n",
       "      <th>Experience of purchasing due to social media influence</th>\n",
       "      <th>Reviews and rating impact on purchasing decision</th>\n",
       "      <th>Average time spent on the Internet (weekly)</th>\n",
       "      <th>Attention to advertisement on social media</th>\n",
       "      <th>...</th>\n",
       "      <th>Attitude 3 (ATTD3)</th>\n",
       "      <th>Attitude 4 (ATTD4)</th>\n",
       "      <th>Social Norms 1 (SN1)</th>\n",
       "      <th>Social Norms 2 (SN2)</th>\n",
       "      <th>Social Norms 3 (SN3)</th>\n",
       "      <th>Social Norms 4 (SN4)</th>\n",
       "      <th>Perceived Behavioural Control 1 (PBC1)</th>\n",
       "      <th>Perceived Behavioural Control 2 (PBC2)</th>\n",
       "      <th>Perceived Behavioural Control 3 (PBC3)</th>\n",
       "      <th>Perceived Behavioural Control 4 (PBC4)</th>\n",
       "    </tr>\n",
       "  </thead>\n",
       "  <tbody>\n",
       "    <tr>\n",
       "      <th>0</th>\n",
       "      <td>Female</td>\n",
       "      <td>29 - 34 Years Old</td>\n",
       "      <td>Chinese</td>\n",
       "      <td>Homemaker</td>\n",
       "      <td>RM50,001-RM70,000</td>\n",
       "      <td>Yes</td>\n",
       "      <td>Yes</td>\n",
       "      <td>Yes</td>\n",
       "      <td>More than 40 hours</td>\n",
       "      <td>Yes</td>\n",
       "      <td>...</td>\n",
       "      <td>Neutral</td>\n",
       "      <td>Neutral</td>\n",
       "      <td>Neutral</td>\n",
       "      <td>Neutral</td>\n",
       "      <td>Neutral</td>\n",
       "      <td>Neutral</td>\n",
       "      <td>Neutral</td>\n",
       "      <td>Neutral</td>\n",
       "      <td>Neutral</td>\n",
       "      <td>Neutral</td>\n",
       "    </tr>\n",
       "    <tr>\n",
       "      <th>1</th>\n",
       "      <td>Male</td>\n",
       "      <td>23 - 28 Years Old</td>\n",
       "      <td>Chinese</td>\n",
       "      <td>Student</td>\n",
       "      <td>RM50,001-RM70,000</td>\n",
       "      <td>Yes</td>\n",
       "      <td>Yes</td>\n",
       "      <td>Yes</td>\n",
       "      <td>More than 40 hours</td>\n",
       "      <td>Yes</td>\n",
       "      <td>...</td>\n",
       "      <td>Agree</td>\n",
       "      <td>Neutral</td>\n",
       "      <td>Strongly disagree</td>\n",
       "      <td>Disagree</td>\n",
       "      <td>Agree</td>\n",
       "      <td>Neutral</td>\n",
       "      <td>Neutral</td>\n",
       "      <td>Agree</td>\n",
       "      <td>Disagree</td>\n",
       "      <td>Disagree</td>\n",
       "    </tr>\n",
       "    <tr>\n",
       "      <th>2</th>\n",
       "      <td>Female</td>\n",
       "      <td>29 - 34 Years Old</td>\n",
       "      <td>Chinese</td>\n",
       "      <td>Homemaker</td>\n",
       "      <td>Less than RM30,000</td>\n",
       "      <td>Yes</td>\n",
       "      <td>Yes</td>\n",
       "      <td>Yes</td>\n",
       "      <td>5 hours – 10 hours</td>\n",
       "      <td>No</td>\n",
       "      <td>...</td>\n",
       "      <td>Strongly disagree</td>\n",
       "      <td>Disagree</td>\n",
       "      <td>Strongly disagree</td>\n",
       "      <td>Strongly disagree</td>\n",
       "      <td>Strongly disagree</td>\n",
       "      <td>Strongly disagree</td>\n",
       "      <td>Strongly disagree</td>\n",
       "      <td>Strongly disagree</td>\n",
       "      <td>Strongly disagree</td>\n",
       "      <td>Strongly disagree</td>\n",
       "    </tr>\n",
       "    <tr>\n",
       "      <th>3</th>\n",
       "      <td>Male</td>\n",
       "      <td>35 - 40 Years Old</td>\n",
       "      <td>Malay</td>\n",
       "      <td>Businessman</td>\n",
       "      <td>More than RM90,001</td>\n",
       "      <td>Yes</td>\n",
       "      <td>Yes</td>\n",
       "      <td>No</td>\n",
       "      <td>1 hour – 4 hours</td>\n",
       "      <td>Yes</td>\n",
       "      <td>...</td>\n",
       "      <td>Agree</td>\n",
       "      <td>Neutral</td>\n",
       "      <td>Neutral</td>\n",
       "      <td>Neutral</td>\n",
       "      <td>Agree</td>\n",
       "      <td>Agree</td>\n",
       "      <td>Neutral</td>\n",
       "      <td>Agree</td>\n",
       "      <td>Neutral</td>\n",
       "      <td>Agree</td>\n",
       "    </tr>\n",
       "    <tr>\n",
       "      <th>4</th>\n",
       "      <td>Female</td>\n",
       "      <td>23 - 28 Years Old</td>\n",
       "      <td>Chinese</td>\n",
       "      <td>Employee</td>\n",
       "      <td>RM70,001-RM90,000</td>\n",
       "      <td>Yes</td>\n",
       "      <td>Yes</td>\n",
       "      <td>Yes</td>\n",
       "      <td>10 hours – 20 hours</td>\n",
       "      <td>No</td>\n",
       "      <td>...</td>\n",
       "      <td>Agree</td>\n",
       "      <td>Agree</td>\n",
       "      <td>Neutral</td>\n",
       "      <td>Disagree</td>\n",
       "      <td>Neutral</td>\n",
       "      <td>Neutral</td>\n",
       "      <td>Neutral</td>\n",
       "      <td>Agree</td>\n",
       "      <td>Agree</td>\n",
       "      <td>Agree</td>\n",
       "    </tr>\n",
       "  </tbody>\n",
       "</table>\n",
       "<p>5 rows × 26 columns</p>\n",
       "</div>"
      ],
      "text/plain": [
       "   Gender                Age   Ethnic   Occupation       Annual Income  \\\n",
       "0  Female  29 - 34 Years Old  Chinese    Homemaker   RM50,001-RM70,000   \n",
       "1    Male  23 - 28 Years Old  Chinese      Student   RM50,001-RM70,000   \n",
       "2  Female  29 - 34 Years Old  Chinese    Homemaker  Less than RM30,000   \n",
       "3    Male  35 - 40 Years Old    Malay  Businessman  More than RM90,001   \n",
       "4  Female  23 - 28 Years Old  Chinese     Employee   RM70,001-RM90,000   \n",
       "\n",
       "  Social Media usage Experience of purchasing due to social media influence  \\\n",
       "0                Yes                                                Yes       \n",
       "1                Yes                                                Yes       \n",
       "2                Yes                                                Yes       \n",
       "3                Yes                                                Yes       \n",
       "4                Yes                                                Yes       \n",
       "\n",
       "  Reviews and rating impact on purchasing decision  \\\n",
       "0                                              Yes   \n",
       "1                                              Yes   \n",
       "2                                              Yes   \n",
       "3                                               No   \n",
       "4                                              Yes   \n",
       "\n",
       "  Average time spent on the Internet (weekly)  \\\n",
       "0                          More than 40 hours   \n",
       "1                          More than 40 hours   \n",
       "2                          5 hours – 10 hours   \n",
       "3                            1 hour – 4 hours   \n",
       "4                         10 hours – 20 hours   \n",
       "\n",
       "  Attention to advertisement on social media  ... Attitude 3 (ATTD3)  \\\n",
       "0                                        Yes  ...            Neutral   \n",
       "1                                        Yes  ...              Agree   \n",
       "2                                         No  ...  Strongly disagree   \n",
       "3                                        Yes  ...              Agree   \n",
       "4                                         No  ...              Agree   \n",
       "\n",
       "  Attitude 4 (ATTD4) Social Norms 1 (SN1) Social Norms 2 (SN2)  \\\n",
       "0            Neutral              Neutral              Neutral   \n",
       "1            Neutral    Strongly disagree             Disagree   \n",
       "2           Disagree    Strongly disagree    Strongly disagree   \n",
       "3            Neutral              Neutral              Neutral   \n",
       "4              Agree              Neutral             Disagree   \n",
       "\n",
       "  Social Norms 3 (SN3) Social Norms 4 (SN4)  \\\n",
       "0              Neutral              Neutral   \n",
       "1                Agree              Neutral   \n",
       "2    Strongly disagree    Strongly disagree   \n",
       "3                Agree                Agree   \n",
       "4              Neutral              Neutral   \n",
       "\n",
       "  Perceived Behavioural Control 1 (PBC1)  \\\n",
       "0                                Neutral   \n",
       "1                                Neutral   \n",
       "2                      Strongly disagree   \n",
       "3                                Neutral   \n",
       "4                                Neutral   \n",
       "\n",
       "  Perceived Behavioural Control 2 (PBC2)  \\\n",
       "0                                Neutral   \n",
       "1                                  Agree   \n",
       "2                      Strongly disagree   \n",
       "3                                  Agree   \n",
       "4                                  Agree   \n",
       "\n",
       "  Perceived Behavioural Control 3 (PBC3)  \\\n",
       "0                                Neutral   \n",
       "1                               Disagree   \n",
       "2                      Strongly disagree   \n",
       "3                                Neutral   \n",
       "4                                  Agree   \n",
       "\n",
       "  Perceived Behavioural Control 4 (PBC4)  \n",
       "0                                Neutral  \n",
       "1                               Disagree  \n",
       "2                      Strongly disagree  \n",
       "3                                  Agree  \n",
       "4                                  Agree  \n",
       "\n",
       "[5 rows x 26 columns]"
      ]
     },
     "execution_count": 22,
     "metadata": {},
     "output_type": "execute_result"
    }
   ],
   "source": [
    "#droping the column ID since it's not important\n",
    "df2 = df1.drop(['ID'],axis=1)\n",
    "df2.head()"
   ]
  },
  {
   "cell_type": "code",
   "execution_count": 23,
   "id": "2a4f88d3",
   "metadata": {
    "colab": {
     "base_uri": "https://localhost:8080/"
    },
    "executionInfo": {
     "elapsed": 54,
     "status": "ok",
     "timestamp": 1685941066275,
     "user": {
      "displayName": "rezwan hossain",
      "userId": "17051338825193089010"
     },
     "user_tz": -360
    },
    "id": "2a4f88d3",
    "outputId": "37c65ddc-3a54-4fe4-8044-e8c380c6de02"
   },
   "outputs": [
    {
     "data": {
      "text/plain": [
       "Gender                                                    False\n",
       "Age                                                       False\n",
       "Ethnic                                                    False\n",
       "Occupation                                                False\n",
       "Annual Income                                             False\n",
       "Social Media usage                                        False\n",
       "Experience of purchasing due to social media influence    False\n",
       "Reviews and rating impact on purchasing decision          False\n",
       "Average time spent on the Internet (weekly)               False\n",
       "Attention to advertisement on social media                False\n",
       "Purchase Behaviour 1 (PB1)                                False\n",
       "Purchase Behaviour 2 (PB2)                                False\n",
       "Purchase Behaviour 3 (PB3)                                False\n",
       "Purchase Behaviour 4 (PB4)                                False\n",
       "Attitude 1 (ATTD1)                                        False\n",
       "Attitude 2 (ATTD2)                                        False\n",
       "Attitude 3 (ATTD3)                                        False\n",
       "Attitude 4 (ATTD4)                                        False\n",
       "Social Norms 1 (SN1)                                      False\n",
       "Social Norms 2 (SN2)                                      False\n",
       "Social Norms 3 (SN3)                                      False\n",
       "Social Norms 4 (SN4)                                      False\n",
       "Perceived Behavioural Control 1 (PBC1)                    False\n",
       "Perceived Behavioural Control 2 (PBC2)                    False\n",
       "Perceived Behavioural Control 3 (PBC3)                    False\n",
       "Perceived Behavioural Control 4 (PBC4)                    False\n",
       "dtype: bool"
      ]
     },
     "execution_count": 23,
     "metadata": {},
     "output_type": "execute_result"
    }
   ],
   "source": [
    "df2.isnull().any()"
   ]
  },
  {
   "cell_type": "code",
   "execution_count": null,
   "id": "c741bfc8",
   "metadata": {
    "colab": {
     "base_uri": "https://localhost:8080/"
    },
    "executionInfo": {
     "elapsed": 52,
     "status": "ok",
     "timestamp": 1685941066276,
     "user": {
      "displayName": "rezwan hossain",
      "userId": "17051338825193089010"
     },
     "user_tz": -360
    },
    "id": "c741bfc8",
    "outputId": "d60a4bb7-2748-40af-f518-2f6b4f89e632"
   },
   "outputs": [],
   "source": [
    "df2.isnull().sum()"
   ]
  },
  {
   "cell_type": "code",
   "execution_count": null,
   "id": "f05c3c66",
   "metadata": {
    "colab": {
     "base_uri": "https://localhost:8080/"
    },
    "executionInfo": {
     "elapsed": 51,
     "status": "ok",
     "timestamp": 1685941066277,
     "user": {
      "displayName": "rezwan hossain",
      "userId": "17051338825193089010"
     },
     "user_tz": -360
    },
    "id": "f05c3c66",
    "outputId": "d3cadc1b-2c41-46a3-efc5-006f587196e1"
   },
   "outputs": [],
   "source": [
    "df2 = df2.dropna(how='any',axis=0)\n",
    "df2.isnull().sum()"
   ]
  },
  {
   "cell_type": "code",
   "execution_count": null,
   "id": "3c407627",
   "metadata": {
    "colab": {
     "base_uri": "https://localhost:8080/",
     "height": 1000
    },
    "executionInfo": {
     "elapsed": 49,
     "status": "ok",
     "timestamp": 1685941066278,
     "user": {
      "displayName": "rezwan hossain",
      "userId": "17051338825193089010"
     },
     "user_tz": -360
    },
    "id": "3c407627",
    "outputId": "352e902f-a6cf-4b5d-abff-8f53bba4a638"
   },
   "outputs": [],
   "source": [
    "df2.shape\n",
    "df2.head(20)"
   ]
  },
  {
   "cell_type": "code",
   "execution_count": null,
   "id": "c9e4ba8a",
   "metadata": {
    "colab": {
     "base_uri": "https://localhost:8080/"
    },
    "executionInfo": {
     "elapsed": 48,
     "status": "ok",
     "timestamp": 1685941066278,
     "user": {
      "displayName": "rezwan hossain",
      "userId": "17051338825193089010"
     },
     "user_tz": -360
    },
    "id": "c9e4ba8a",
    "outputId": "9f6e8c94-36ba-4ba9-ba44-3795dc4413b8"
   },
   "outputs": [],
   "source": [
    "df2.nunique()"
   ]
  },
  {
   "cell_type": "code",
   "execution_count": null,
   "id": "2768dc4d",
   "metadata": {
    "id": "2768dc4d"
   },
   "outputs": [],
   "source": [
    "df2.rename(columns={'Annual Income': 'Annual_Income',\n",
    "                   'Social Media usage': 'Social_Media_usage',\n",
    "                   'Experience of purchasing due to social media influence': 'Experience',\n",
    "                   'Reviews and rating impact on purchasing decision': 'Reviews_and_rating',\n",
    "                   'Average time spent on the Internet (weekly)': 'ATI',\n",
    "                   'Attention to advertisement on social media': 'ADSM',\n",
    "                   'Purchase Behaviour 1 (PB1)': 'PB1',\n",
    "                   'Purchase Behaviour 2 (PB2)': 'PB2',\n",
    "                   'Purchase Behaviour 3 (PB3)': 'PB3',\n",
    "                   'Purchase Behaviour 4 (PB4)': 'PB4',\n",
    "                   'Attitude 1 (ATTD1)': 'ATTD1',\n",
    "                   'Attitude 2 (ATTD2)': 'ATTD2',\n",
    "                   'Attitude 3 (ATTD3)': 'ATTD3',\n",
    "                   'Attitude 4 (ATTD4)': 'ATTD4',\n",
    "                   'Social Norms 1 (SN1)': 'SN1',\n",
    "                   'Social Norms 2 (SN2)': 'SN2',\n",
    "                   'Social Norms 3 (SN3)': 'SN3',\n",
    "                   'Social Norms 4 (SN4)': 'SN4',\n",
    "                   'Perceived Behavioural Control 1 (PBC1)': 'PBC1',\n",
    "                   'Perceived Behavioural Control 2 (PBC2)': 'PBC2',\n",
    "                   'Perceived Behavioural Control 3 (PBC3)': 'PBC3',\n",
    "                   'Perceived Behavioural Control 4 (PBC4)': 'PBC4',\n",
    "                   },\n",
    "          inplace=True, errors='raise')"
   ]
  },
  {
   "cell_type": "code",
   "execution_count": null,
   "id": "4cbad4c7",
   "metadata": {
    "colab": {
     "base_uri": "https://localhost:8080/",
     "height": 560
    },
    "executionInfo": {
     "elapsed": 46,
     "status": "ok",
     "timestamp": 1685941066279,
     "user": {
      "displayName": "rezwan hossain",
      "userId": "17051338825193089010"
     },
     "user_tz": -360
    },
    "id": "4cbad4c7",
    "outputId": "94c63ad8-d2bc-41f6-d154-8b9ddf747839"
   },
   "outputs": [],
   "source": [
    "df2.head()"
   ]
  },
  {
   "cell_type": "code",
   "execution_count": null,
   "id": "438739c0",
   "metadata": {
    "colab": {
     "base_uri": "https://localhost:8080/"
    },
    "executionInfo": {
     "elapsed": 46,
     "status": "ok",
     "timestamp": 1685941066280,
     "user": {
      "displayName": "rezwan hossain",
      "userId": "17051338825193089010"
     },
     "user_tz": -360
    },
    "id": "438739c0",
    "outputId": "256a8fe3-e840-4130-c78f-c2b98533b2f7"
   },
   "outputs": [],
   "source": [
    "df2.Gender.unique()"
   ]
  },
  {
   "cell_type": "code",
   "execution_count": null,
   "id": "c432e01f",
   "metadata": {
    "colab": {
     "base_uri": "https://localhost:8080/"
    },
    "executionInfo": {
     "elapsed": 43,
     "status": "ok",
     "timestamp": 1685941066280,
     "user": {
      "displayName": "rezwan hossain",
      "userId": "17051338825193089010"
     },
     "user_tz": -360
    },
    "id": "c432e01f",
    "outputId": "cf1f1f5d-3737-4852-becd-1b5b4f1106f0"
   },
   "outputs": [],
   "source": [
    "df2.Age.unique()"
   ]
  },
  {
   "cell_type": "code",
   "execution_count": null,
   "id": "1e90f30d",
   "metadata": {
    "colab": {
     "base_uri": "https://localhost:8080/"
    },
    "executionInfo": {
     "elapsed": 41,
     "status": "ok",
     "timestamp": 1685941066281,
     "user": {
      "displayName": "rezwan hossain",
      "userId": "17051338825193089010"
     },
     "user_tz": -360
    },
    "id": "1e90f30d",
    "outputId": "d5a7c382-388f-40c5-ae64-e30bb0502a19"
   },
   "outputs": [],
   "source": [
    "df2.Ethnic.unique()"
   ]
  },
  {
   "cell_type": "code",
   "execution_count": null,
   "id": "4a53ea99",
   "metadata": {
    "colab": {
     "base_uri": "https://localhost:8080/"
    },
    "executionInfo": {
     "elapsed": 41,
     "status": "ok",
     "timestamp": 1685941066282,
     "user": {
      "displayName": "rezwan hossain",
      "userId": "17051338825193089010"
     },
     "user_tz": -360
    },
    "id": "4a53ea99",
    "outputId": "794f57fa-0024-498f-db36-c0afc010d752"
   },
   "outputs": [],
   "source": [
    "df2.Occupation.unique()"
   ]
  },
  {
   "cell_type": "code",
   "execution_count": null,
   "id": "1f72d430",
   "metadata": {
    "colab": {
     "base_uri": "https://localhost:8080/"
    },
    "executionInfo": {
     "elapsed": 40,
     "status": "ok",
     "timestamp": 1685941066283,
     "user": {
      "displayName": "rezwan hossain",
      "userId": "17051338825193089010"
     },
     "user_tz": -360
    },
    "id": "1f72d430",
    "outputId": "de7d37c5-a310-437e-a80e-d53eda987ff9"
   },
   "outputs": [],
   "source": [
    "df2.Annual_Income.unique()"
   ]
  },
  {
   "cell_type": "code",
   "execution_count": null,
   "id": "976565cb",
   "metadata": {
    "colab": {
     "base_uri": "https://localhost:8080/"
    },
    "executionInfo": {
     "elapsed": 39,
     "status": "ok",
     "timestamp": 1685941066284,
     "user": {
      "displayName": "rezwan hossain",
      "userId": "17051338825193089010"
     },
     "user_tz": -360
    },
    "id": "976565cb",
    "outputId": "c0e94fc6-0865-428f-8907-15e23250f282"
   },
   "outputs": [],
   "source": [
    "df2.Social_Media_usage.unique()"
   ]
  },
  {
   "cell_type": "code",
   "execution_count": null,
   "id": "fc69fdae",
   "metadata": {
    "colab": {
     "base_uri": "https://localhost:8080/"
    },
    "executionInfo": {
     "elapsed": 36,
     "status": "ok",
     "timestamp": 1685941066284,
     "user": {
      "displayName": "rezwan hossain",
      "userId": "17051338825193089010"
     },
     "user_tz": -360
    },
    "id": "fc69fdae",
    "outputId": "dec141b1-05b1-4d93-e157-0637b4eefa37"
   },
   "outputs": [],
   "source": [
    "df2.Experience.unique()"
   ]
  },
  {
   "cell_type": "code",
   "execution_count": null,
   "id": "3abb19aa",
   "metadata": {
    "colab": {
     "base_uri": "https://localhost:8080/"
    },
    "executionInfo": {
     "elapsed": 35,
     "status": "ok",
     "timestamp": 1685941066285,
     "user": {
      "displayName": "rezwan hossain",
      "userId": "17051338825193089010"
     },
     "user_tz": -360
    },
    "id": "3abb19aa",
    "outputId": "7faeed9a-1dad-458b-8b5c-d601b012ddce"
   },
   "outputs": [],
   "source": [
    "df2.Reviews_and_rating.unique()"
   ]
  },
  {
   "cell_type": "code",
   "execution_count": null,
   "id": "8ec12658",
   "metadata": {
    "colab": {
     "base_uri": "https://localhost:8080/"
    },
    "executionInfo": {
     "elapsed": 33,
     "status": "ok",
     "timestamp": 1685941066285,
     "user": {
      "displayName": "rezwan hossain",
      "userId": "17051338825193089010"
     },
     "user_tz": -360
    },
    "id": "8ec12658",
    "outputId": "48c0f6e6-6e50-44eb-a71e-57423f840247"
   },
   "outputs": [],
   "source": [
    "df2.ATI.unique()"
   ]
  },
  {
   "cell_type": "code",
   "execution_count": null,
   "id": "69c36eac",
   "metadata": {
    "colab": {
     "base_uri": "https://localhost:8080/"
    },
    "executionInfo": {
     "elapsed": 32,
     "status": "ok",
     "timestamp": 1685941066286,
     "user": {
      "displayName": "rezwan hossain",
      "userId": "17051338825193089010"
     },
     "user_tz": -360
    },
    "id": "69c36eac",
    "outputId": "12b55d00-8375-4263-dc44-bbff24422217"
   },
   "outputs": [],
   "source": [
    "df2.ADSM.unique()"
   ]
  },
  {
   "cell_type": "code",
   "execution_count": null,
   "id": "0737ead2",
   "metadata": {
    "colab": {
     "base_uri": "https://localhost:8080/"
    },
    "executionInfo": {
     "elapsed": 30,
     "status": "ok",
     "timestamp": 1685941066286,
     "user": {
      "displayName": "rezwan hossain",
      "userId": "17051338825193089010"
     },
     "user_tz": -360
    },
    "id": "0737ead2",
    "outputId": "196a8443-1446-415c-a46b-3b0444afa729"
   },
   "outputs": [],
   "source": [
    "df2.PB1.unique()"
   ]
  },
  {
   "cell_type": "code",
   "execution_count": null,
   "id": "a00fb055",
   "metadata": {
    "colab": {
     "base_uri": "https://localhost:8080/"
    },
    "executionInfo": {
     "elapsed": 20,
     "status": "ok",
     "timestamp": 1685941066648,
     "user": {
      "displayName": "rezwan hossain",
      "userId": "17051338825193089010"
     },
     "user_tz": -360
    },
    "id": "a00fb055",
    "outputId": "7d6ad75b-88a5-4caa-ad8e-6017faf99dc2"
   },
   "outputs": [],
   "source": [
    "df2.PB2.unique()"
   ]
  },
  {
   "cell_type": "code",
   "execution_count": null,
   "id": "a4409ca1",
   "metadata": {
    "colab": {
     "base_uri": "https://localhost:8080/"
    },
    "executionInfo": {
     "elapsed": 17,
     "status": "ok",
     "timestamp": 1685941066649,
     "user": {
      "displayName": "rezwan hossain",
      "userId": "17051338825193089010"
     },
     "user_tz": -360
    },
    "id": "a4409ca1",
    "outputId": "205d9046-2ced-4062-b9c4-71ce0e9c9f84"
   },
   "outputs": [],
   "source": [
    "df2.PB3.unique()"
   ]
  },
  {
   "cell_type": "code",
   "execution_count": null,
   "id": "f8ae4739",
   "metadata": {
    "colab": {
     "base_uri": "https://localhost:8080/"
    },
    "executionInfo": {
     "elapsed": 15,
     "status": "ok",
     "timestamp": 1685941066649,
     "user": {
      "displayName": "rezwan hossain",
      "userId": "17051338825193089010"
     },
     "user_tz": -360
    },
    "id": "f8ae4739",
    "outputId": "661ec2ce-853f-4cd3-fd4d-0ab675817a4b"
   },
   "outputs": [],
   "source": [
    "df2.PB4.unique()"
   ]
  },
  {
   "cell_type": "code",
   "execution_count": null,
   "id": "9fbd342e",
   "metadata": {
    "colab": {
     "base_uri": "https://localhost:8080/"
    },
    "executionInfo": {
     "elapsed": 14,
     "status": "ok",
     "timestamp": 1685941066650,
     "user": {
      "displayName": "rezwan hossain",
      "userId": "17051338825193089010"
     },
     "user_tz": -360
    },
    "id": "9fbd342e",
    "outputId": "e255203c-6782-412a-d127-8c6ad2a5c08b"
   },
   "outputs": [],
   "source": [
    "df2.ATTD1.unique()\n",
    "df2.ATTD2.unique()\n",
    "df2.ATTD3.unique()\n",
    "df2.ATTD4.unique()"
   ]
  },
  {
   "cell_type": "code",
   "execution_count": null,
   "id": "21e2c5ee",
   "metadata": {
    "colab": {
     "base_uri": "https://localhost:8080/"
    },
    "executionInfo": {
     "elapsed": 13,
     "status": "ok",
     "timestamp": 1685941066651,
     "user": {
      "displayName": "rezwan hossain",
      "userId": "17051338825193089010"
     },
     "user_tz": -360
    },
    "id": "21e2c5ee",
    "outputId": "c11de8fe-af3e-45f5-8a52-a976391a0468"
   },
   "outputs": [],
   "source": [
    "df2.SN1.unique()\n",
    "df2.SN2.unique()\n",
    "df2.SN3.unique()\n",
    "df2.SN4.unique()"
   ]
  },
  {
   "cell_type": "code",
   "execution_count": null,
   "id": "7ea67ec9",
   "metadata": {
    "colab": {
     "base_uri": "https://localhost:8080/"
    },
    "executionInfo": {
     "elapsed": 11,
     "status": "ok",
     "timestamp": 1685941066651,
     "user": {
      "displayName": "rezwan hossain",
      "userId": "17051338825193089010"
     },
     "user_tz": -360
    },
    "id": "7ea67ec9",
    "outputId": "412d1157-544b-4a0f-9c35-eec7c0c921ca",
    "scrolled": true
   },
   "outputs": [],
   "source": [
    "df2.PBC1.unique()\n",
    "df2.PBC2.unique()\n",
    "df2.PBC3.unique()\n",
    "df2.PBC4.unique()"
   ]
  },
  {
   "cell_type": "code",
   "execution_count": null,
   "id": "96b500e0",
   "metadata": {
    "colab": {
     "base_uri": "https://localhost:8080/",
     "height": 320
    },
    "executionInfo": {
     "elapsed": 10,
     "status": "ok",
     "timestamp": 1685941066652,
     "user": {
      "displayName": "rezwan hossain",
      "userId": "17051338825193089010"
     },
     "user_tz": -360
    },
    "id": "96b500e0",
    "outputId": "def4e232-dd7a-4a8e-c736-f7349d4fe9cf"
   },
   "outputs": [],
   "source": [
    "df2.describe()"
   ]
  },
  {
   "cell_type": "markdown",
   "id": "e34e19b9",
   "metadata": {
    "id": "e34e19b9"
   },
   "source": [
    "### VISUALIZATION"
   ]
  },
  {
   "cell_type": "code",
   "execution_count": null,
   "id": "8ecd278e",
   "metadata": {
    "colab": {
     "base_uri": "https://localhost:8080/",
     "height": 1000
    },
    "executionInfo": {
     "elapsed": 3836,
     "status": "ok",
     "timestamp": 1685941070479,
     "user": {
      "displayName": "rezwan hossain",
      "userId": "17051338825193089010"
     },
     "user_tz": -360
    },
    "id": "8ecd278e",
    "outputId": "4a3d90b4-6202-4233-ad61-5f9d2a735594"
   },
   "outputs": [],
   "source": [
    "# fig, ax = plt.subplots(1, 4, figsize=(20, 10))\n",
    "# fig.suptitle('Count Plot', fontsize=16, x=.5)\n",
    "\n",
    "# columns = ['Gender', 'Age', 'Ethnic','Occupation']\n",
    "# for i, col in enumerate(columns):\n",
    "#     graph = sns.countplot(x=df2[col], ax=ax[i])\n",
    "#     ax[i].set_title(*[col])\n",
    "#     graph.bar_label(graph.containers[0])\n",
    "\n",
    "features = ['Gender', 'Age', 'Ethnic','Occupation', 'Annual_Income', 'Social_Media_usage', 'Experience', 'Reviews_and_rating', 'ATI', 'ADSM' ]\n",
    "\n",
    "for f in features:\n",
    "    sns.countplot(x = f, data = df2, palette = 'Set1')\n",
    "    plt.xticks(rotation=45)\n",
    "    plt.show()"
   ]
  },
  {
   "cell_type": "code",
   "execution_count": null,
   "id": "71109dc0",
   "metadata": {
    "id": "71109dc0"
   },
   "outputs": [],
   "source": [
    "# fig, ax = plt.subplots(1, 3, figsize=(25, 10))\n",
    "# fig.suptitle('Count Plot', fontsize=16, x=0.92)\n",
    "\n",
    "# columns = ['Annual_Income', 'Social_Media_usage', 'Experience']\n",
    "# for i, col in enumerate(columns):\n",
    "#     graph = sns.countplot(x=df2[col], ax=ax[i])\n",
    "#     ax[i].set_title(*[col])\n",
    "#     graph.bar_label(graph.containers[0])"
   ]
  },
  {
   "cell_type": "code",
   "execution_count": null,
   "id": "d54d97cc",
   "metadata": {
    "id": "d54d97cc"
   },
   "outputs": [],
   "source": [
    "# fig, ax = plt.subplots(1, 3, figsize=(25, 10))\n",
    "# fig.suptitle('Count Plot', fontsize=16, x=0.92)\n",
    "\n",
    "# columns = ['Reviews_and_rating', 'ATI', 'ADSM']\n",
    "# for i, col in enumerate(columns):\n",
    "#     graph = sns.countplot(x=df2[col], ax=ax[i])\n",
    "#     ax[i].set_title(*[col])\n",
    "#     graph.bar_label(graph.containers[0])"
   ]
  },
  {
   "cell_type": "code",
   "execution_count": null,
   "id": "76bfaa44",
   "metadata": {
    "colab": {
     "base_uri": "https://localhost:8080/",
     "height": 1000
    },
    "executionInfo": {
     "elapsed": 7,
     "status": "ok",
     "timestamp": 1685941071397,
     "user": {
      "displayName": "rezwan hossain",
      "userId": "17051338825193089010"
     },
     "user_tz": -360
    },
    "id": "76bfaa44",
    "outputId": "5af85687-702b-4aa4-895c-d23bc1f5a0c6"
   },
   "outputs": [],
   "source": [
    "#count plot of Attitude (ATTD)\n",
    "features = [ 'ATTD1','ATTD2','ATTD3','ATTD4']\n",
    "\n",
    "for f in features:\n",
    "    sns.countplot(x = f, data = df2, palette = 'Set2')\n",
    "    plt.xticks(rotation=45)\n",
    "    plt.show()"
   ]
  },
  {
   "cell_type": "code",
   "execution_count": null,
   "id": "26e1a1eb",
   "metadata": {
    "colab": {
     "base_uri": "https://localhost:8080/",
     "height": 1000
    },
    "executionInfo": {
     "elapsed": 1090,
     "status": "ok",
     "timestamp": 1685941072483,
     "user": {
      "displayName": "rezwan hossain",
      "userId": "17051338825193089010"
     },
     "user_tz": -360
    },
    "id": "26e1a1eb",
    "outputId": "b8bea3cb-ef96-4920-86c8-e2c18534ec72"
   },
   "outputs": [],
   "source": [
    "#count plot of Social Norms (SN)\n",
    "features = [ 'SN1','SN2','SN3','SN4']\n",
    "\n",
    "for f in features:\n",
    "    sns.countplot(x = f, data = df2, palette = 'Set2')\n",
    "    plt.xticks(rotation=45)\n",
    "    plt.show()"
   ]
  },
  {
   "cell_type": "code",
   "execution_count": null,
   "id": "02eae96f",
   "metadata": {
    "colab": {
     "base_uri": "https://localhost:8080/",
     "height": 1000
    },
    "executionInfo": {
     "elapsed": 1307,
     "status": "ok",
     "timestamp": 1685941073782,
     "user": {
      "displayName": "rezwan hossain",
      "userId": "17051338825193089010"
     },
     "user_tz": -360
    },
    "id": "02eae96f",
    "outputId": "7b520145-5327-4a86-a3fe-282ce8b769fb"
   },
   "outputs": [],
   "source": [
    "#count plot of Perceived Behavioural Control (PBC)\n",
    "features = [ 'PBC1','PBC2','PBC3','PBC4']\n",
    "\n",
    "for f in features:\n",
    "    sns.countplot(x = f, data = df2, palette = 'Set2')\n",
    "    plt.xticks(rotation=45)\n",
    "    plt.show()"
   ]
  },
  {
   "cell_type": "code",
   "execution_count": null,
   "id": "ba414fb9",
   "metadata": {
    "colab": {
     "base_uri": "https://localhost:8080/",
     "height": 1000
    },
    "executionInfo": {
     "elapsed": 1208,
     "status": "ok",
     "timestamp": 1685941074980,
     "user": {
      "displayName": "rezwan hossain",
      "userId": "17051338825193089010"
     },
     "user_tz": -360
    },
    "id": "ba414fb9",
    "outputId": "cda8d7df-1afa-4f44-fc62-f9550138a108"
   },
   "outputs": [],
   "source": [
    "#count plot of Purchase Behavior (PB)\n",
    "features = [ 'PB1','PB2','PB3','PB4']\n",
    "\n",
    "for f in features:\n",
    "    sns.countplot(x = f, data = df2, palette = 'Set2')\n",
    "    plt.xticks(rotation=45)\n",
    "    plt.show()"
   ]
  },
  {
   "cell_type": "markdown",
   "id": "48fc63c1",
   "metadata": {
    "id": "48fc63c1"
   },
   "source": [
    "# DATA PREPROCESSING"
   ]
  },
  {
   "cell_type": "code",
   "execution_count": null,
   "id": "91fe39c8",
   "metadata": {
    "id": "91fe39c8"
   },
   "outputs": [],
   "source": [
    "#replacing the categorical value of PB, ATTD, SN and PBC to numerical value\n",
    "df2 = df2.replace('Strongly agree',5)\n",
    "df2 = df2.replace('Agree',4)\n",
    "df2 = df2.replace('Neutral',3)\n",
    "df2 = df2.replace('Disagree',2)\n",
    "df2 = df2.replace('Strongly disagree',1)"
   ]
  },
  {
   "cell_type": "code",
   "execution_count": null,
   "id": "738d9ccf",
   "metadata": {
    "id": "738d9ccf"
   },
   "outputs": [],
   "source": [
    "# Merging PB1, PB2, PB3, PB4 to PB\n",
    "df2['PB'] = df2['PB1'] + df2['PB2']+ df2['PB3']+ df2['PB4']"
   ]
  },
  {
   "cell_type": "code",
   "execution_count": null,
   "id": "197145fa",
   "metadata": {
    "id": "197145fa"
   },
   "outputs": [],
   "source": [
    "#Diving the PB target attribute to two class High and Low, we are using mean value 10 as diving criteria\n",
    "#and Appending a new target attribute PB-inf\n",
    "rating = []\n",
    "for row in df2['PB']:\n",
    "    if row<=12:\n",
    "        rating.append('LOW')\n",
    "    else:\n",
    "        rating.append('HIGH')\n",
    "df2['PB-inf'] = rating"
   ]
  },
  {
   "cell_type": "code",
   "execution_count": null,
   "id": "426d3305",
   "metadata": {
    "colab": {
     "base_uri": "https://localhost:8080/",
     "height": 577
    },
    "executionInfo": {
     "elapsed": 14,
     "status": "ok",
     "timestamp": 1685941074983,
     "user": {
      "displayName": "rezwan hossain",
      "userId": "17051338825193089010"
     },
     "user_tz": -360
    },
    "id": "426d3305",
    "outputId": "9c8b0d76-f8f0-473f-967d-51b5991bf083"
   },
   "outputs": [],
   "source": [
    "df2.head()"
   ]
  },
  {
   "cell_type": "code",
   "execution_count": null,
   "id": "49d1b319",
   "metadata": {
    "colab": {
     "base_uri": "https://localhost:8080/",
     "height": 1000
    },
    "executionInfo": {
     "elapsed": 1671,
     "status": "ok",
     "timestamp": 1685941076642,
     "user": {
      "displayName": "rezwan hossain",
      "userId": "17051338825193089010"
     },
     "user_tz": -360
    },
    "id": "49d1b319",
    "outputId": "0891070b-b4c9-4587-c322-14a43d5f2ff3"
   },
   "outputs": [],
   "source": [
    "#set seaborn plotting aesthetics as default\n",
    "# sns.set()\n",
    "\n",
    "#define plotting region (2 rows, 2 columns)\n",
    "fig, axes = plt.subplots(2, 2, figsize=(25, 25))\n",
    "\n",
    "#create boxplot in each subplot\n",
    "sns.boxplot(data=df2, x='PB', y='Gender', ax=axes[0,0])\n",
    "sns.boxplot(data=df2, x='PB', y='Age', ax=axes[0,1])\n",
    "sns.boxplot(data=df2, x='PB', y='Ethnic', ax=axes[1,0])\n",
    "sns.boxplot(data=df2, x='PB', y='Occupation', ax=axes[1,1])"
   ]
  },
  {
   "cell_type": "code",
   "execution_count": null,
   "id": "68d4b8fa",
   "metadata": {
    "colab": {
     "base_uri": "https://localhost:8080/",
     "height": 1000
    },
    "executionInfo": {
     "elapsed": 2837,
     "status": "ok",
     "timestamp": 1685941079475,
     "user": {
      "displayName": "rezwan hossain",
      "userId": "17051338825193089010"
     },
     "user_tz": -360
    },
    "id": "68d4b8fa",
    "outputId": "8f770727-acda-4bf2-f17c-51808ace35fd"
   },
   "outputs": [],
   "source": [
    "#define plotting region (2 rows, 2 columns)\n",
    "fig, axes = plt.subplots(2, 2, figsize=(15, 15))\n",
    "\n",
    "#create boxplot in each subplot\n",
    "sns.boxplot(data=df2, x='PB', y='Annual_Income', ax=axes[0,0])\n",
    "sns.boxplot(data=df2, x='PB', y='Social_Media_usage', ax=axes[0,1])\n",
    "sns.boxplot(data=df2, x='PB', y='Experience', ax=axes[1,0])\n",
    "sns.boxplot(data=df2, x='PB', y='Reviews_and_rating', ax=axes[1,1])"
   ]
  },
  {
   "cell_type": "code",
   "execution_count": null,
   "id": "fa6e136e",
   "metadata": {
    "colab": {
     "base_uri": "https://localhost:8080/",
     "height": 1000
    },
    "executionInfo": {
     "elapsed": 2490,
     "status": "ok",
     "timestamp": 1685941081960,
     "user": {
      "displayName": "rezwan hossain",
      "userId": "17051338825193089010"
     },
     "user_tz": -360
    },
    "id": "fa6e136e",
    "outputId": "5291d147-6b6e-4156-a56b-c3e199d557fb"
   },
   "outputs": [],
   "source": [
    "#define plotting region (2 rows, 1 columns)\n",
    "fig, axes = plt.subplots(2, 1, figsize=(15, 15))\n",
    "\n",
    "#create boxplot in each subplot\n",
    "sns.boxplot(data=df2, x='PB', y='ATI', ax=axes[0])\n",
    "sns.boxplot(data=df2, x='PB', y='ADSM', ax=axes[1])"
   ]
  },
  {
   "cell_type": "code",
   "execution_count": null,
   "id": "19444c21",
   "metadata": {
    "colab": {
     "base_uri": "https://localhost:8080/",
     "height": 594
    },
    "executionInfo": {
     "elapsed": 23,
     "status": "ok",
     "timestamp": 1685941081961,
     "user": {
      "displayName": "rezwan hossain",
      "userId": "17051338825193089010"
     },
     "user_tz": -360
    },
    "id": "19444c21",
    "outputId": "8365bbb0-cb1e-419a-893c-4b722f3f84b8"
   },
   "outputs": [],
   "source": [
    "#Droping  PB1,PB2,PB3,PB4,PB and keeping PB-inf instead\n",
    "df3= df2.drop(columns = ['PB1','PB2','PB3','PB4','PB'], inplace = True)\n",
    "print(df2.shape)\n",
    "df2.head()"
   ]
  },
  {
   "cell_type": "code",
   "execution_count": null,
   "id": "8e68cf13",
   "metadata": {
    "id": "8e68cf13"
   },
   "outputs": [],
   "source": [
    "#According to Theory of Planned behaviour, in order to predict Purchase Behaviour-PB we only need find the relationship between ATTD, SN, PBC\n",
    "#Hence Droping all the column except ATTD, SN, PBC to Predict PB\n",
    "colsToDrop = ['Gender', 'Age', 'Ethnic','Occupation','Annual_Income','Social_Media_usage','Experience','Reviews_and_rating','ATI','ADSM']\n",
    "df2.drop(columns = colsToDrop, inplace = True)\n",
    "y = df2['PB-inf']\n",
    "X = df2.drop(columns = 'PB-inf')"
   ]
  },
  {
   "cell_type": "markdown",
   "id": "b12158a5",
   "metadata": {
    "id": "b12158a5"
   },
   "source": [
    "# Hold Out Validation"
   ]
  },
  {
   "cell_type": "code",
   "execution_count": null,
   "id": "e9bddf26",
   "metadata": {
    "id": "e9bddf26"
   },
   "outputs": [],
   "source": [
    "#Spliting Ratio 80:20\n",
    "from sklearn.model_selection import train_test_split\n",
    "X_train, X_test, y_train, y_test = train_test_split(X, y, test_size = 0.2, random_state = 20, stratify = y)"
   ]
  },
  {
   "cell_type": "markdown",
   "id": "7a1b00ae",
   "metadata": {
    "id": "7a1b00ae"
   },
   "source": [
    "# ZeroR Classifier"
   ]
  },
  {
   "cell_type": "markdown",
   "id": "8caa2df5",
   "metadata": {
    "id": "8caa2df5"
   },
   "source": [
    "##### ZeroR classifer used to detect whether the dataset is balanced or not"
   ]
  },
  {
   "cell_type": "code",
   "execution_count": null,
   "id": "074f2219",
   "metadata": {
    "id": "074f2219"
   },
   "outputs": [],
   "source": [
    "# The Confusion matrix Function\n",
    "def plot_confusion_matrix(cm, classes=None, title='Confusion matrix'):\n",
    "\n",
    "    if classes is not None:\n",
    "        sns.heatmap(cm, xticklabels=classes, yticklabels=classes, vmin=0., vmax=1., annot=True, annot_kws={'size':50})\n",
    "    else:\n",
    "        sns.heatmap(cm, vmin=0., vmax=1.)\n",
    "    plt.title(title)\n",
    "    plt.ylabel('True label')\n",
    "    plt.xlabel('Predicted label')"
   ]
  },
  {
   "cell_type": "code",
   "execution_count": null,
   "id": "0f00e41e",
   "metadata": {
    "colab": {
     "base_uri": "https://localhost:8080/"
    },
    "executionInfo": {
     "elapsed": 805,
     "status": "ok",
     "timestamp": 1685941087116,
     "user": {
      "displayName": "rezwan hossain",
      "userId": "17051338825193089010"
     },
     "user_tz": -360
    },
    "id": "0f00e41e",
    "outputId": "a2642455-ac8a-45fd-fe74-25353925d10e"
   },
   "outputs": [],
   "source": [
    "from sklearn.dummy import DummyClassifier\n",
    "from sklearn.metrics import classification_report, accuracy_score, confusion_matrix\n",
    "\n",
    "dummy_clf = DummyClassifier(strategy = 'most_frequent', random_state = 20)\n",
    "dummy_clf.fit(X_train, y_train)\n",
    "y_pred = dummy_clf.predict(X_test)\n",
    "\n",
    "print(classification_report(y_test, y_pred))\n",
    "print(\"Train Accuracy: \", accuracy_score(y_train, dummy_clf.predict(X_train)))\n",
    "print(\"Test Accuracy: \", accuracy_score(y_test, y_pred))"
   ]
  },
  {
   "cell_type": "code",
   "execution_count": null,
   "id": "10dc70a7",
   "metadata": {
    "colab": {
     "base_uri": "https://localhost:8080/",
     "height": 487
    },
    "executionInfo": {
     "elapsed": 7,
     "status": "ok",
     "timestamp": 1685941087117,
     "user": {
      "displayName": "rezwan hossain",
      "userId": "17051338825193089010"
     },
     "user_tz": -360
    },
    "id": "10dc70a7",
    "outputId": "b129c1d8-e6d5-4522-971d-bd3398e1384c"
   },
   "outputs": [],
   "source": [
    "y_pred = dummy_clf.predict(X_test)\n",
    "\n",
    "# Plotting Confusion Matrix\n",
    "cm = confusion_matrix(y_test, y_pred)\n",
    "cm_norm = cm/cm.sum(axis=1)[:, np.newaxis]\n",
    "plt.figure(figsize = (10,5))\n",
    "plot_confusion_matrix(cm, classes=dummy_clf.classes_, title='Test set confusion')"
   ]
  },
  {
   "cell_type": "markdown",
   "id": "2744e320",
   "metadata": {
    "id": "2744e320"
   },
   "source": [
    "# KNN Classifier"
   ]
  },
  {
   "cell_type": "code",
   "execution_count": null,
   "id": "fe501a1c",
   "metadata": {
    "colab": {
     "base_uri": "https://localhost:8080/",
     "height": 663
    },
    "executionInfo": {
     "elapsed": 1162,
     "status": "ok",
     "timestamp": 1685941088273,
     "user": {
      "displayName": "rezwan hossain",
      "userId": "17051338825193089010"
     },
     "user_tz": -360
    },
    "id": "fe501a1c",
    "outputId": "3afc3103-9599-4a04-dab7-724a64048189"
   },
   "outputs": [],
   "source": [
    "from sklearn.neighbors import KNeighborsClassifier\n",
    "knn_clf = KNeighborsClassifier(n_neighbors = 5, metric = 'minkowski', p = 2) # Minkowski Distance Metric and K = 5\n",
    "knn_clf.fit(X_train, y_train)\n",
    "y_pred = knn_clf.predict(X_test)\n",
    "\n",
    "#plotting consusion matrix\n",
    "skplt.metrics.plot_confusion_matrix(y_test, y_pred);\n",
    "print(classification_report(y_test, y_pred))\n",
    "print(\"Train Accuracy: \", accuracy_score(y_train, knn_clf.predict(X_train)))\n",
    "print(\"Test Accuracy: \", accuracy_score(y_test, y_pred))"
   ]
  },
  {
   "cell_type": "code",
   "execution_count": null,
   "id": "c73fd4b6",
   "metadata": {
    "colab": {
     "base_uri": "https://localhost:8080/",
     "height": 564
    },
    "executionInfo": {
     "elapsed": 697,
     "status": "ok",
     "timestamp": 1685941091989,
     "user": {
      "displayName": "rezwan hossain",
      "userId": "17051338825193089010"
     },
     "user_tz": -360
    },
    "id": "c73fd4b6",
    "outputId": "8d3be32c-1001-4b0e-bae5-66b27f95c7b5"
   },
   "outputs": [],
   "source": [
    "#plotting ROC curve\n",
    "y_probas = knn_clf.predict_proba(X_test)\n",
    "skplt.metrics.plot_roc(y_test, y_probas, figsize = (8,6), plot_micro = False, plot_macro = True,\n",
    "                      title = \"ROC Curve for KNN Classifier\");"
   ]
  },
  {
   "cell_type": "code",
   "execution_count": null,
   "id": "603ba11f",
   "metadata": {
    "colab": {
     "base_uri": "https://localhost:8080/",
     "height": 564
    },
    "executionInfo": {
     "elapsed": 1226,
     "status": "ok",
     "timestamp": 1685941093211,
     "user": {
      "displayName": "rezwan hossain",
      "userId": "17051338825193089010"
     },
     "user_tz": -360
    },
    "id": "603ba11f",
    "outputId": "48e92979-75ed-4fea-aecb-e44cca9b1c14"
   },
   "outputs": [],
   "source": [
    "#plotting PRC curve\n",
    "skplt.metrics.plot_precision_recall(y_test, y_probas, figsize = (8,6), plot_micro = False,\n",
    "                                   title = \"Precision-Recall Curve for KNN Classifier\");"
   ]
  },
  {
   "cell_type": "code",
   "execution_count": null,
   "id": "43732b6e",
   "metadata": {
    "colab": {
     "base_uri": "https://localhost:8080/",
     "height": 472
    },
    "executionInfo": {
     "elapsed": 727,
     "status": "ok",
     "timestamp": 1685941093933,
     "user": {
      "displayName": "rezwan hossain",
      "userId": "17051338825193089010"
     },
     "user_tz": -360
    },
    "id": "43732b6e",
    "outputId": "dca84e0f-0e20-404a-f9d0-ee7235d828fb"
   },
   "outputs": [],
   "source": [
    "#Plotting learning curve\n",
    "from sklearn.model_selection import ShuffleSplit\n",
    "cv = ShuffleSplit(n_splits=1, test_size=0.2, random_state=0)\n",
    "skplt.estimators.plot_learning_curve(knn_clf, X, y, cv = cv,title = \"KNN Classifier\");"
   ]
  },
  {
   "cell_type": "markdown",
   "id": "e76ae27a",
   "metadata": {
    "id": "e76ae27a"
   },
   "source": [
    "# Decision Tree Classifier"
   ]
  },
  {
   "cell_type": "code",
   "execution_count": null,
   "id": "1232f839",
   "metadata": {
    "colab": {
     "base_uri": "https://localhost:8080/",
     "height": 663
    },
    "executionInfo": {
     "elapsed": 2218,
     "status": "ok",
     "timestamp": 1685941096148,
     "user": {
      "displayName": "rezwan hossain",
      "userId": "17051338825193089010"
     },
     "user_tz": -360
    },
    "id": "1232f839",
    "outputId": "e87e6bae-e692-41b8-be14-6ee7d4cadd5f"
   },
   "outputs": [],
   "source": [
    "from sklearn.tree import DecisionTreeClassifier\n",
    "from sklearn.metrics import accuracy_score\n",
    "from sklearn.metrics import classification_report\n",
    "\n",
    "tree_clf = DecisionTreeClassifier(criterion = 'entropy', max_depth= 5)\n",
    "tree_clf.fit(X_train, y_train)\n",
    "train_prediction = tree_clf.predict(X_train)\n",
    "test_prediction = tree_clf.predict(X_test)\n",
    "\n",
    "#plotting confusion matrix for DT\n",
    "skplt.metrics.plot_confusion_matrix(y_test, test_prediction);\n",
    "print(classification_report(y_test, test_prediction))\n",
    "print(\"Train Accuracy: \", accuracy_score(y_train, train_prediction))\n",
    "print(\"Test Accuracy: \", accuracy_score(y_test, test_prediction))"
   ]
  },
  {
   "cell_type": "code",
   "execution_count": null,
   "id": "6aac241b",
   "metadata": {
    "colab": {
     "base_uri": "https://localhost:8080/",
     "height": 564
    },
    "executionInfo": {
     "elapsed": 1778,
     "status": "ok",
     "timestamp": 1685941097922,
     "user": {
      "displayName": "rezwan hossain",
      "userId": "17051338825193089010"
     },
     "user_tz": -360
    },
    "id": "6aac241b",
    "outputId": "660768f2-6846-4be3-f9b9-6bc6d2b093d1"
   },
   "outputs": [],
   "source": [
    "#Plotting ROC curve for DT\n",
    "y_probas = tree_clf.predict_proba(X_test)\n",
    "skplt.metrics.plot_roc(y_test, y_probas, figsize = (8,6), plot_micro = False, plot_macro = True,\n",
    "                      title = \"ROC Curve for Decision Tree Classifier\");"
   ]
  },
  {
   "cell_type": "code",
   "execution_count": null,
   "id": "291ce552",
   "metadata": {
    "colab": {
     "base_uri": "https://localhost:8080/",
     "height": 564
    },
    "executionInfo": {
     "elapsed": 674,
     "status": "ok",
     "timestamp": 1685941098592,
     "user": {
      "displayName": "rezwan hossain",
      "userId": "17051338825193089010"
     },
     "user_tz": -360
    },
    "id": "291ce552",
    "outputId": "18ead8e0-3184-4c9b-94b0-30f54618e91a"
   },
   "outputs": [],
   "source": [
    "#plotting PRC curve for DT\n",
    "skplt.metrics.plot_precision_recall(y_test, y_probas, figsize = (8,6), plot_micro = False,\n",
    "                                   title = \"Precision-Recall Curve for Decision Classifier\");"
   ]
  },
  {
   "cell_type": "code",
   "execution_count": null,
   "id": "688591bb",
   "metadata": {
    "colab": {
     "base_uri": "https://localhost:8080/",
     "height": 472
    },
    "executionInfo": {
     "elapsed": 693,
     "status": "ok",
     "timestamp": 1685941099281,
     "user": {
      "displayName": "rezwan hossain",
      "userId": "17051338825193089010"
     },
     "user_tz": -360
    },
    "id": "688591bb",
    "outputId": "489ab4a4-d704-41ea-8c9f-c28877f9d9a1",
    "scrolled": true
   },
   "outputs": [],
   "source": [
    "#Plotting learning curve for DT\n",
    "from sklearn.model_selection import ShuffleSplit\n",
    "cv = ShuffleSplit(n_splits=1, test_size=0.2, random_state=0)\n",
    "skplt.estimators.plot_learning_curve(tree_clf, X, y, cv = cv,title = \"Decision Tress Classifier\");"
   ]
  },
  {
   "cell_type": "code",
   "execution_count": null,
   "id": "Hx6B5_WwEzzV",
   "metadata": {
    "colab": {
     "base_uri": "https://localhost:8080/",
     "height": 979
    },
    "executionInfo": {
     "elapsed": 7082,
     "status": "ok",
     "timestamp": 1685941106358,
     "user": {
      "displayName": "rezwan hossain",
      "userId": "17051338825193089010"
     },
     "user_tz": -360
    },
    "id": "Hx6B5_WwEzzV",
    "outputId": "ca22a216-0c7f-4e14-cb11-d9f397faa224"
   },
   "outputs": [],
   "source": [
    "from sklearn import tree\n",
    "tree.plot_tree(tree_clf)"
   ]
  },
  {
   "cell_type": "code",
   "execution_count": null,
   "id": "pCQ7mWOWFuzS",
   "metadata": {
    "colab": {
     "base_uri": "https://localhost:8080/",
     "height": 816
    },
    "executionInfo": {
     "elapsed": 13,
     "status": "ok",
     "timestamp": 1685941106360,
     "user": {
      "displayName": "rezwan hossain",
      "userId": "17051338825193089010"
     },
     "user_tz": -360
    },
    "id": "pCQ7mWOWFuzS",
    "outputId": "0ed2757d-aa97-4f8e-ffcb-6d8d7f2ff975"
   },
   "outputs": [],
   "source": [
    "#Visualization of DT using graphviz\n",
    "import graphviz\n",
    "dot_data = tree.export_graphviz(tree_clf, out_file=None, filled = True, rounded = True, special_characters=False)\n",
    "graph = graphviz.Source(dot_data)\n",
    "graph"
   ]
  },
  {
   "cell_type": "markdown",
   "id": "524e7657",
   "metadata": {
    "id": "524e7657"
   },
   "source": [
    "# Logistic Regression"
   ]
  },
  {
   "cell_type": "code",
   "execution_count": null,
   "id": "58c3138a",
   "metadata": {
    "colab": {
     "base_uri": "https://localhost:8080/",
     "height": 663
    },
    "executionInfo": {
     "elapsed": 527,
     "status": "ok",
     "timestamp": 1685941106875,
     "user": {
      "displayName": "rezwan hossain",
      "userId": "17051338825193089010"
     },
     "user_tz": -360
    },
    "id": "58c3138a",
    "outputId": "ad802c7e-f916-4bf3-f922-4e8a46db477e"
   },
   "outputs": [],
   "source": [
    "from sklearn.linear_model import LogisticRegression\n",
    "from sklearn.metrics import accuracy_score\n",
    "from sklearn.metrics import classification_report\n",
    "\n",
    "model = LogisticRegression(C =0.1, solver ='newton-cg')\n",
    "model.fit(X_train, y_train)\n",
    "pred_train = model.predict(X_train)\n",
    "pred_test = model.predict(X_test)\n",
    "\n",
    "#ploting confusion matrix for logistic regression\n",
    "skplt.metrics.plot_confusion_matrix(y_test, pred_test);\n",
    "print(classification_report(y_test, pred_test))\n",
    "print(\"Train Accuracy\", accuracy_score(y_train, pred_train))\n",
    "print(\"Test Accuracy\", accuracy_score(y_test, pred_test))"
   ]
  },
  {
   "cell_type": "code",
   "execution_count": null,
   "id": "5af93fda",
   "metadata": {
    "colab": {
     "base_uri": "https://localhost:8080/",
     "height": 564
    },
    "executionInfo": {
     "elapsed": 3792,
     "status": "ok",
     "timestamp": 1685941110660,
     "user": {
      "displayName": "rezwan hossain",
      "userId": "17051338825193089010"
     },
     "user_tz": -360
    },
    "id": "5af93fda",
    "outputId": "9a8ab34e-b58c-4934-8fec-543b845d8264"
   },
   "outputs": [],
   "source": [
    "#ploting ROC curve for logistic regression\n",
    "y_probas = model.predict_proba(X_test)\n",
    "skplt.metrics.plot_roc(y_test, y_probas, figsize = (8,6), plot_micro = False, plot_macro = True,\n",
    "                      title = \"ROC Curve for Logistic Regression\");"
   ]
  },
  {
   "cell_type": "code",
   "execution_count": null,
   "id": "c522d555",
   "metadata": {
    "colab": {
     "base_uri": "https://localhost:8080/",
     "height": 564
    },
    "executionInfo": {
     "elapsed": 852,
     "status": "ok",
     "timestamp": 1685941111503,
     "user": {
      "displayName": "rezwan hossain",
      "userId": "17051338825193089010"
     },
     "user_tz": -360
    },
    "id": "c522d555",
    "outputId": "7fada25d-21c6-4ec2-8333-700e8f276a7e"
   },
   "outputs": [],
   "source": [
    "#ploting PRC for logistic regression\n",
    "skplt.metrics.plot_precision_recall(y_test, y_probas, figsize = (8,6), plot_micro = False,\n",
    "                                   title = \"Precision-Recall Curve for Logistic Regression\");"
   ]
  },
  {
   "cell_type": "code",
   "execution_count": null,
   "id": "16098cd0",
   "metadata": {
    "colab": {
     "base_uri": "https://localhost:8080/",
     "height": 472
    },
    "executionInfo": {
     "elapsed": 2093,
     "status": "ok",
     "timestamp": 1685941113592,
     "user": {
      "displayName": "rezwan hossain",
      "userId": "17051338825193089010"
     },
     "user_tz": -360
    },
    "id": "16098cd0",
    "outputId": "375529cc-ea54-49f5-e555-49dd00b6c63a"
   },
   "outputs": [],
   "source": [
    "#ploting learning curve for logistic regression\n",
    "from sklearn.model_selection import ShuffleSplit\n",
    "cv = ShuffleSplit(n_splits=1, test_size=0.2, random_state=0)\n",
    "skplt.estimators.plot_learning_curve(model, X, y, cv = cv,title = \"Logistic Regression\");"
   ]
  },
  {
   "cell_type": "markdown",
   "id": "2a3c6285",
   "metadata": {
    "id": "2a3c6285"
   },
   "source": [
    "# Naive Bayes Classifier"
   ]
  },
  {
   "cell_type": "code",
   "execution_count": null,
   "id": "4c0467a7",
   "metadata": {
    "colab": {
     "base_uri": "https://localhost:8080/",
     "height": 663
    },
    "executionInfo": {
     "elapsed": 2019,
     "status": "ok",
     "timestamp": 1685941115604,
     "user": {
      "displayName": "rezwan hossain",
      "userId": "17051338825193089010"
     },
     "user_tz": -360
    },
    "id": "4c0467a7",
    "outputId": "0bd45507-1b24-437d-c02a-937ac95690f6"
   },
   "outputs": [],
   "source": [
    "from sklearn.naive_bayes import GaussianNB\n",
    "from sklearn.metrics import accuracy_score\n",
    "from sklearn.metrics import classification_report\n",
    "\n",
    "naive = GaussianNB()\n",
    "naive.fit(X_train, y_train)\n",
    "y_pred = naive.predict(X_test)\n",
    "\n",
    "#ploting confusion matrix for Naive Bayes\n",
    "skplt.metrics.plot_confusion_matrix(y_test, y_pred);\n",
    "print(classification_report(y_test, y_pred))\n",
    "print(\"Train Accuracy\", accuracy_score(y_train, naive.predict(X_train)))\n",
    "print(\"Test Accuracy\", accuracy_score(y_test, naive.predict(X_test)))"
   ]
  },
  {
   "cell_type": "code",
   "execution_count": null,
   "id": "c9027eed",
   "metadata": {
    "colab": {
     "base_uri": "https://localhost:8080/",
     "height": 564
    },
    "executionInfo": {
     "elapsed": 1643,
     "status": "ok",
     "timestamp": 1685941117241,
     "user": {
      "displayName": "rezwan hossain",
      "userId": "17051338825193089010"
     },
     "user_tz": -360
    },
    "id": "c9027eed",
    "outputId": "b81abb51-d6c7-4ec1-a509-7c41f6a67610"
   },
   "outputs": [],
   "source": [
    "#ploting ROC for Naive Bayes\n",
    "y_probas = naive.predict_proba(X_test)\n",
    "skplt.metrics.plot_roc(y_test, y_probas, figsize = (8,6), plot_micro = False, plot_macro = True,\n",
    "                      title = \"ROC Curve for Naive Bayes Classifier\");"
   ]
  },
  {
   "cell_type": "code",
   "execution_count": null,
   "id": "418a4f7d",
   "metadata": {
    "colab": {
     "base_uri": "https://localhost:8080/",
     "height": 564
    },
    "executionInfo": {
     "elapsed": 1024,
     "status": "ok",
     "timestamp": 1685941118259,
     "user": {
      "displayName": "rezwan hossain",
      "userId": "17051338825193089010"
     },
     "user_tz": -360
    },
    "id": "418a4f7d",
    "outputId": "4e73976a-92a4-43ef-f8d9-e133182c26c3"
   },
   "outputs": [],
   "source": [
    "#ploting PRC for Naive Bayes\n",
    "skplt.metrics.plot_precision_recall(y_test, y_probas, figsize = (8,6), plot_micro = False,\n",
    "                                   title = \"Precision-Recall Curve for Naive Bayes Classifier\");"
   ]
  },
  {
   "cell_type": "code",
   "execution_count": null,
   "id": "ce521cff",
   "metadata": {
    "colab": {
     "base_uri": "https://localhost:8080/",
     "height": 472
    },
    "executionInfo": {
     "elapsed": 1288,
     "status": "ok",
     "timestamp": 1685941119543,
     "user": {
      "displayName": "rezwan hossain",
      "userId": "17051338825193089010"
     },
     "user_tz": -360
    },
    "id": "ce521cff",
    "outputId": "af31a23e-433b-481d-9590-9fdb936a8d4e"
   },
   "outputs": [],
   "source": [
    "#ploting learning curve for Naive Bayes\n",
    "from sklearn.model_selection import ShuffleSplit\n",
    "cv = ShuffleSplit(n_splits=1, test_size=0.2, random_state=0)\n",
    "skplt.estimators.plot_learning_curve(naive, X, y, cv = cv,\n",
    "                      title = \"Naive Bayes Classifier\");"
   ]
  },
  {
   "cell_type": "markdown",
   "id": "f074f698",
   "metadata": {
    "id": "f074f698"
   },
   "source": [
    "# Support Vector Machine (SVM) Classifier"
   ]
  },
  {
   "cell_type": "code",
   "execution_count": null,
   "id": "666f1a87",
   "metadata": {
    "colab": {
     "base_uri": "https://localhost:8080/",
     "height": 663
    },
    "executionInfo": {
     "elapsed": 1069,
     "status": "ok",
     "timestamp": 1685941120607,
     "user": {
      "displayName": "rezwan hossain",
      "userId": "17051338825193089010"
     },
     "user_tz": -360
    },
    "id": "666f1a87",
    "outputId": "6fc6f737-1cb3-46c8-b5c3-8be8e5f89030"
   },
   "outputs": [],
   "source": [
    "from sklearn.svm import SVC\n",
    "from sklearn.metrics import classification_report\n",
    "from sklearn.metrics import accuracy_score\n",
    "\n",
    "svm = SVC(C =0.1, gamma='scale', kernel='linear',probability=True)\n",
    "svm.fit(X_train, y_train)\n",
    "y_pred = svm.predict(X_test)\n",
    "\n",
    "#ploting confusion matrix for SVM\n",
    "skplt.metrics.plot_confusion_matrix(y_test, y_pred);\n",
    "print(classification_report(y_test, y_pred))\n",
    "print(\"Train Accuracy\", accuracy_score(svm.predict(X_train), y_train))\n",
    "print(\"Test Accuracy\", accuracy_score(svm.predict(X_test), y_test))"
   ]
  },
  {
   "cell_type": "code",
   "execution_count": null,
   "id": "05d59aaf",
   "metadata": {
    "colab": {
     "base_uri": "https://localhost:8080/",
     "height": 564
    },
    "executionInfo": {
     "elapsed": 2905,
     "status": "ok",
     "timestamp": 1685941123507,
     "user": {
      "displayName": "rezwan hossain",
      "userId": "17051338825193089010"
     },
     "user_tz": -360
    },
    "id": "05d59aaf",
    "outputId": "eab48a25-1d0d-474f-d80f-07af4b26079f"
   },
   "outputs": [],
   "source": [
    "#ploting ROC curve for SVM\n",
    "y_probas = svm.predict_proba(X_test)\n",
    "skplt.metrics.plot_roc(y_test, y_probas, figsize = (8,6), plot_micro = False, plot_macro = True,\n",
    "                      title = \"ROC Curve for Support Vector Machine (SVM) Classifier\");"
   ]
  },
  {
   "cell_type": "code",
   "execution_count": null,
   "id": "b58500e2",
   "metadata": {
    "colab": {
     "base_uri": "https://localhost:8080/",
     "height": 564
    },
    "executionInfo": {
     "elapsed": 1165,
     "status": "ok",
     "timestamp": 1685941124667,
     "user": {
      "displayName": "rezwan hossain",
      "userId": "17051338825193089010"
     },
     "user_tz": -360
    },
    "id": "b58500e2",
    "outputId": "7d201b96-2424-4236-a4e8-365bb8829009"
   },
   "outputs": [],
   "source": [
    "#ploting PRC curve for SVM\n",
    "skplt.metrics.plot_precision_recall(y_test, y_probas, figsize = (8,6), plot_micro = False,\n",
    "                                   title = \"Precision-Recall Curve for Support Vector Machine (SVM) Classifier\");"
   ]
  },
  {
   "cell_type": "code",
   "execution_count": null,
   "id": "11e4c2dc",
   "metadata": {
    "colab": {
     "base_uri": "https://localhost:8080/",
     "height": 472
    },
    "executionInfo": {
     "elapsed": 951,
     "status": "ok",
     "timestamp": 1685941125612,
     "user": {
      "displayName": "rezwan hossain",
      "userId": "17051338825193089010"
     },
     "user_tz": -360
    },
    "id": "11e4c2dc",
    "outputId": "6f5d8c84-9d70-4dd3-96b9-60e4beeac62e"
   },
   "outputs": [],
   "source": [
    "#ploting learning for SVM\n",
    "from sklearn.model_selection import ShuffleSplit\n",
    "cv = ShuffleSplit(n_splits=1, test_size=0.2, random_state=0)\n",
    "skplt.estimators.plot_learning_curve(svm, X, y, cv = cv,\n",
    "                      title = \"Support Vector Machine (SVM) Classifier\");"
   ]
  },
  {
   "cell_type": "markdown",
   "id": "7ce3efed",
   "metadata": {
    "id": "7ce3efed"
   },
   "source": [
    "# Ensemble Classifiers"
   ]
  },
  {
   "cell_type": "markdown",
   "id": "2323ad57",
   "metadata": {
    "id": "2323ad57"
   },
   "source": [
    "## Random Forest Classifier"
   ]
  },
  {
   "cell_type": "code",
   "execution_count": null,
   "id": "2b31420e",
   "metadata": {
    "colab": {
     "base_uri": "https://localhost:8080/",
     "height": 663
    },
    "executionInfo": {
     "elapsed": 1640,
     "status": "ok",
     "timestamp": 1685941127246,
     "user": {
      "displayName": "rezwan hossain",
      "userId": "17051338825193089010"
     },
     "user_tz": -360
    },
    "id": "2b31420e",
    "outputId": "fe24d710-a797-4f56-da98-23ed90ace9f0"
   },
   "outputs": [],
   "source": [
    "from sklearn.ensemble import RandomForestClassifier\n",
    "from sklearn.metrics import classification_report\n",
    "from sklearn.metrics import accuracy_score\n",
    "\n",
    "clf = RandomForestClassifier(criterion='gini', max_depth= 6, n_estimators =100)\n",
    "clf.fit(X_train, y_train)\n",
    "y_pred = clf.predict(X_test)\n",
    "#ploting confusion matrix for RF\n",
    "skplt.metrics.plot_confusion_matrix(y_test, y_pred);\n",
    "print(classification_report(y_test, y_pred))\n",
    "print(\"Train Accuracy\", accuracy_score(clf.predict(X_train), y_train))\n",
    "print(\"Test Accuracy\", accuracy_score(clf.predict(X_test), y_test))"
   ]
  },
  {
   "cell_type": "code",
   "execution_count": null,
   "id": "d6c9b586",
   "metadata": {
    "colab": {
     "base_uri": "https://localhost:8080/",
     "height": 564
    },
    "executionInfo": {
     "elapsed": 1154,
     "status": "ok",
     "timestamp": 1685941128395,
     "user": {
      "displayName": "rezwan hossain",
      "userId": "17051338825193089010"
     },
     "user_tz": -360
    },
    "id": "d6c9b586",
    "outputId": "75f839da-bfe5-4028-b8d9-2b2082f24b83"
   },
   "outputs": [],
   "source": [
    "#ploting ROC curve for RF\n",
    "y_probas = clf.predict_proba(X_test)\n",
    "skplt.metrics.plot_roc(y_test, y_probas, figsize = (8,6), plot_micro = False, plot_macro = True,\n",
    "                      title = \"ROC Curve for Random Forest Classifier\");"
   ]
  },
  {
   "cell_type": "code",
   "execution_count": null,
   "id": "b0d1dfa3",
   "metadata": {
    "colab": {
     "base_uri": "https://localhost:8080/",
     "height": 564
    },
    "executionInfo": {
     "elapsed": 10,
     "status": "ok",
     "timestamp": 1685941128396,
     "user": {
      "displayName": "rezwan hossain",
      "userId": "17051338825193089010"
     },
     "user_tz": -360
    },
    "id": "b0d1dfa3",
    "outputId": "f3cdcad6-c8c9-41f6-a429-ca88e24fd688"
   },
   "outputs": [],
   "source": [
    "#ploting PRC curve for RF\n",
    "skplt.metrics.plot_precision_recall(y_test, y_probas, figsize = (8,6), plot_micro = False,\n",
    "                                   title = \"Precision-Recall Curve for Random Forest Classifier\");"
   ]
  },
  {
   "cell_type": "code",
   "execution_count": null,
   "id": "b26f7fe9",
   "metadata": {
    "colab": {
     "base_uri": "https://localhost:8080/",
     "height": 472
    },
    "executionInfo": {
     "elapsed": 3016,
     "status": "ok",
     "timestamp": 1685941131404,
     "user": {
      "displayName": "rezwan hossain",
      "userId": "17051338825193089010"
     },
     "user_tz": -360
    },
    "id": "b26f7fe9",
    "outputId": "f0b702d0-aa50-453a-fe46-b41e6f8f59ca"
   },
   "outputs": [],
   "source": [
    "#ploting Learning curve for RF\n",
    "from sklearn.model_selection import ShuffleSplit\n",
    "cv = ShuffleSplit(n_splits=1, test_size=0.2, random_state=0)\n",
    "skplt.estimators.plot_learning_curve(clf, X, y, cv = cv,title = \"Random Forest Classifier\");"
   ]
  },
  {
   "cell_type": "markdown",
   "id": "MkB1bZSdpu19",
   "metadata": {
    "id": "MkB1bZSdpu19"
   },
   "source": [
    "# AdaBoost Classifier"
   ]
  },
  {
   "cell_type": "code",
   "execution_count": null,
   "id": "s8061FDYp4Y9",
   "metadata": {
    "colab": {
     "base_uri": "https://localhost:8080/",
     "height": 663
    },
    "executionInfo": {
     "elapsed": 12,
     "status": "ok",
     "timestamp": 1685941131405,
     "user": {
      "displayName": "rezwan hossain",
      "userId": "17051338825193089010"
     },
     "user_tz": -360
    },
    "id": "s8061FDYp4Y9",
    "outputId": "b2025eab-d8ed-4beb-bcd5-37dc02045a37"
   },
   "outputs": [],
   "source": [
    "from sklearn.ensemble import AdaBoostClassifier\n",
    "from sklearn.metrics import classification_report\n",
    "from sklearn.metrics import accuracy_score\n",
    "\n",
    "Ada_clf = AdaBoostClassifier(learning_rate=0.1, n_estimators=50)\n",
    "Ada_clf.fit(X_train, y_train)\n",
    "y_pred = Ada_clf.predict(X_test)\n",
    "\n",
    "#ploting confusion matrix for AdaBoost\n",
    "skplt.metrics.plot_confusion_matrix(y_test, y_pred);\n",
    "print(classification_report(y_test, y_pred))\n",
    "print(\"Train Accuracy\", accuracy_score(Ada_clf.predict(X_train), y_train))\n",
    "print(\"Test Accuracy\", accuracy_score(Ada_clf.predict(X_test), y_test))"
   ]
  },
  {
   "cell_type": "code",
   "execution_count": null,
   "id": "SMdlNyzMp5WW",
   "metadata": {
    "colab": {
     "base_uri": "https://localhost:8080/",
     "height": 564
    },
    "executionInfo": {
     "elapsed": 1045,
     "status": "ok",
     "timestamp": 1685941132441,
     "user": {
      "displayName": "rezwan hossain",
      "userId": "17051338825193089010"
     },
     "user_tz": -360
    },
    "id": "SMdlNyzMp5WW",
    "outputId": "112e7596-4fd0-40da-8208-42f63ae5a314"
   },
   "outputs": [],
   "source": [
    "#ploting ROC curve for AdaBoost\n",
    "y_probas = Ada_clf.predict_proba(X_test)\n",
    "skplt.metrics.plot_roc(y_test, y_probas, figsize = (8,6), plot_micro = False, plot_macro = True,\n",
    "                      title = \"ROC Curve for AdaBost Classifier\");"
   ]
  },
  {
   "cell_type": "code",
   "execution_count": null,
   "id": "pKsxyb9_p9N3",
   "metadata": {
    "colab": {
     "base_uri": "https://localhost:8080/",
     "height": 564
    },
    "executionInfo": {
     "elapsed": 465,
     "status": "ok",
     "timestamp": 1685941132901,
     "user": {
      "displayName": "rezwan hossain",
      "userId": "17051338825193089010"
     },
     "user_tz": -360
    },
    "id": "pKsxyb9_p9N3",
    "outputId": "9af29fac-534d-4325-c7ff-40da9c100552"
   },
   "outputs": [],
   "source": [
    "#ploting PRC curve for Adaboost\n",
    "skplt.metrics.plot_precision_recall(y_test, y_probas, figsize = (8,6), plot_micro = False,\n",
    "                                   title = \"Precision-Recall Curve for AdaBost Classifier\");"
   ]
  },
  {
   "cell_type": "code",
   "execution_count": null,
   "id": "yoxO8YC7p_2z",
   "metadata": {
    "colab": {
     "base_uri": "https://localhost:8080/",
     "height": 472
    },
    "executionInfo": {
     "elapsed": 3215,
     "status": "ok",
     "timestamp": 1685941136112,
     "user": {
      "displayName": "rezwan hossain",
      "userId": "17051338825193089010"
     },
     "user_tz": -360
    },
    "id": "yoxO8YC7p_2z",
    "outputId": "5786a9da-f788-47e1-b6d3-1bb3b5704bd1"
   },
   "outputs": [],
   "source": [
    "#ploting learning curve for Adaboost\n",
    "from sklearn.model_selection import ShuffleSplit\n",
    "cv = ShuffleSplit(n_splits=1, test_size=0.2, random_state=0)\n",
    "skplt.estimators.plot_learning_curve(Ada_clf, X, y, cv = cv,title = \"AdaBost Classifier\");"
   ]
  },
  {
   "cell_type": "markdown",
   "id": "zT2YJ7sIqBxe",
   "metadata": {
    "id": "zT2YJ7sIqBxe"
   },
   "source": [
    "#Gradient Boosting Classifier"
   ]
  },
  {
   "cell_type": "code",
   "execution_count": null,
   "id": "NEntjzZmqF0q",
   "metadata": {
    "colab": {
     "base_uri": "https://localhost:8080/",
     "height": 663
    },
    "executionInfo": {
     "elapsed": 905,
     "status": "ok",
     "timestamp": 1685941137005,
     "user": {
      "displayName": "rezwan hossain",
      "userId": "17051338825193089010"
     },
     "user_tz": -360
    },
    "id": "NEntjzZmqF0q",
    "outputId": "f55c0f5d-09c2-48b1-baa6-2148bafee0d0"
   },
   "outputs": [],
   "source": [
    "\n",
    "from sklearn.datasets import make_hastie_10_2\n",
    "from sklearn.ensemble import GradientBoostingClassifier\n",
    "from sklearn.metrics import classification_report\n",
    "from sklearn.metrics import accuracy_score\n",
    "\n",
    "xgb_clf = GradientBoostingClassifier(n_estimators=200, learning_rate=1.0, max_depth=2)\n",
    "xgb_clf.fit(X_train, y_train)\n",
    "y_pred = xgb_clf.predict(X_test)\n",
    "\n",
    "#plotting confusion matrix for GB\n",
    "skplt.metrics.plot_confusion_matrix(y_test, y_pred,title = \"Gradient Boosting Classifier (Considering TPB Factors: ATTD, SN, PBC)\");\n",
    "print(classification_report(y_test, y_pred))\n",
    "print(\"Train Accuracy\", accuracy_score(xgb_clf.predict(X_train), y_train))\n",
    "print(\"Test Accuracy\", accuracy_score(xgb_clf.predict(X_test), y_test))"
   ]
  },
  {
   "cell_type": "code",
   "execution_count": null,
   "id": "hNEejK6kqIwY",
   "metadata": {
    "colab": {
     "base_uri": "https://localhost:8080/",
     "height": 564
    },
    "executionInfo": {
     "elapsed": 1447,
     "status": "ok",
     "timestamp": 1685941138447,
     "user": {
      "displayName": "rezwan hossain",
      "userId": "17051338825193089010"
     },
     "user_tz": -360
    },
    "id": "hNEejK6kqIwY",
    "outputId": "4bd3d1a8-9edb-4d91-a780-780064e32cdc"
   },
   "outputs": [],
   "source": [
    "#plotting ROC curve for GB\n",
    "y_probas = xgb_clf.predict_proba(X_test)\n",
    "skplt.metrics.plot_roc(y_test, y_probas, figsize = (8,6), plot_micro = False, plot_macro = False,\n",
    "                      title = \"Gradient Boosting Classifier (Considering TPB Factors: ATTD, SN, PBC)\");"
   ]
  },
  {
   "cell_type": "code",
   "execution_count": null,
   "id": "VOnv6KUdqK2P",
   "metadata": {
    "colab": {
     "base_uri": "https://localhost:8080/",
     "height": 718
    },
    "executionInfo": {
     "elapsed": 10,
     "status": "ok",
     "timestamp": 1685941138448,
     "user": {
      "displayName": "rezwan hossain",
      "userId": "17051338825193089010"
     },
     "user_tz": -360
    },
    "id": "VOnv6KUdqK2P",
    "outputId": "e9e65d91-6042-4b1a-bffb-362751866ce6"
   },
   "outputs": [],
   "source": [
    "#plotting PRC curve for GB\n",
    "skplt.metrics.plot_precision_recall(y_test, y_probas, figsize = (10,8), plot_micro = False,\n",
    "                                   title = \"Gradient Boosting Classifier (Considering TPB Factors: ATTD, SN, PBC)\");"
   ]
  },
  {
   "cell_type": "code",
   "execution_count": null,
   "id": "oKrdye-0qN-s",
   "metadata": {
    "colab": {
     "base_uri": "https://localhost:8080/",
     "height": 472
    },
    "executionInfo": {
     "elapsed": 814,
     "status": "ok",
     "timestamp": 1685941139254,
     "user": {
      "displayName": "rezwan hossain",
      "userId": "17051338825193089010"
     },
     "user_tz": -360
    },
    "id": "oKrdye-0qN-s",
    "outputId": "5f634684-5016-448c-fd0c-5e42db6865b3"
   },
   "outputs": [],
   "source": [
    "#plotting learning curve for GB\n",
    "from sklearn.model_selection import ShuffleSplit\n",
    "cv = ShuffleSplit(n_splits=1, test_size=0.2, random_state=10)\n",
    "skplt.estimators.plot_learning_curve(xgb_clf, X, y, cv = cv,title = \"Gradient Boosting Classifier (Considering TPB Factors: ATTD, SN, PBC)\");"
   ]
  }
 ],
 "metadata": {
  "colab": {
   "provenance": [
    {
     "file_id": "1TLj8e3-EQn-vChW5fET0AUJC4pHqyeMg",
     "timestamp": 1683359636779
    },
    {
     "file_id": "1lRg2THbVyLN08_V5boAeO71G8dT9W8EU",
     "timestamp": 1683348939355
    },
    {
     "file_id": "1_CdyJ_h3AUXDw5yOewLXHZy1x5JMR5Uj",
     "timestamp": 1683052953108
    }
   ]
  },
  "kernelspec": {
   "display_name": "Python 3 (ipykernel)",
   "language": "python",
   "name": "python3"
  },
  "language_info": {
   "codemirror_mode": {
    "name": "ipython",
    "version": 3
   },
   "file_extension": ".py",
   "mimetype": "text/x-python",
   "name": "python",
   "nbconvert_exporter": "python",
   "pygments_lexer": "ipython3",
   "version": "3.9.12"
  }
 },
 "nbformat": 4,
 "nbformat_minor": 5
}
